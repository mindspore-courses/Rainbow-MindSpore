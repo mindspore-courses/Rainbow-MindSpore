{
 "cells": [
  {
   "attachments": {},
   "cell_type": "markdown",
   "metadata": {},
   "source": [
    "## Configurations for Colab"
   ]
  },
  {
   "cell_type": "code",
   "execution_count": 1,
   "metadata": {},
   "outputs": [
    {
     "data": {
      "text/plain": [
       "<pyvirtualdisplay.display.Display at 0x7f5b6a1c0790>"
      ]
     },
     "execution_count": 1,
     "metadata": {},
     "output_type": "execute_result"
    }
   ],
   "source": [
    "# 在Ubuntu服务器上设置虚拟显示\n",
    "# sudo apt update\n",
    "# sudo apt install python-opengl ffmpeg xvfb\n",
    "# 启动虚拟X服务器\n",
    "# Xvfb :1 -screen 0 1024x768x24 &\n",
    "# export DISPLAY=:1\n",
    "\n",
    "from pyvirtualdisplay import Display\n",
    "\n",
    "# Start virtual display\n",
    "dis = Display(visible=0, size=(400, 400))\n",
    "dis.start()"
   ]
  },
  {
   "attachments": {},
   "cell_type": "markdown",
   "metadata": {},
   "source": [
    "# 02. Double DQN\n",
    "\n",
    "[van Hasselt et al., \"Deep Reinforcement Learning with Double Q-learning.\" arXiv preprint arXiv:1509.06461, 2015.](https://arxiv.org/pdf/1509.06461.pdf)\n",
    "\n",
    "\n",
    "\n",
    "\n",
    "Let's take a close look at the difference between DQN and Double-DQN. The max operator in standard Q-learning and DQN uses the same values both to select and to evaluate an action. This makes it more likely to select overestimated values, resulting in overoptimistic value estimates.\n",
    "\n",
    "$$\n",
    "\\theta_{t+1} = \\theta_t + \\alpha \\big(Y_t^Q - Q(S_t, A_t; \\theta_t)\\big) \\cdot \\nabla_{\\theta_t} Q(S_t, A_t; \\theta_t),\\\\\n",
    "\\text{where } \\alpha \\text{ is a scalar step size and the target } Y_t^Q \\text{is defined as }\\\\\n",
    "Y_t^Q = R_{t+1} + \\gamma \\max_a Q(S_{t+1}, a; \\theta_t).\n",
    "$$\n",
    "\n",
    "In Double Q-learning ([van Hasselt 2010](https://papers.nips.cc/paper/3964-double-q-learning.pdf)), two value functions are learned by assigning experiences randomly to update one of the two value functions, resulting in two sets of weights, $\\theta$ and $\\theta'$. For each update, one set of weights is used to determine the greedy policy and the other to determine its value. For a clear comparison, we can untangle the selection and evaluation in Q-learning and rewrite DQN's target as\n",
    "\n",
    "$$\n",
    "Y_t^Q = R_{t+1} + \\gamma Q(S_{t+1}, \\arg\\max_a Q(S_{t+1}, a; \\theta_t); \\theta_t).\n",
    "$$\n",
    "\n",
    "The Double Q-learning error can then be written as\n",
    "\n",
    "$$\n",
    "Y_t^{DoubleQ} = R_{t+1} + \\gamma Q(S_{t+1}, \\arg\\max_a Q(S_{t+1}, a; \\theta_t); \\theta_t').\n",
    "$$\n",
    "\n",
    "The idea of Double Q-learning is to reduce overestimations by decomposing the max operation in the target into action selection and action evaluation. Although not fully decoupled, the target network in the DQN architecture provides a natural candidate for the second value function, without having to introduce additional networks. In conclusion, the weights of the second network $\\theta_t'$ are replaced with the weights of the target network for the evaluation of the current greedy policy. This makes just a small change in calculating the target value of DQN loss.\n",
    "\n",
    "##### DQN:\n",
    "\n",
    "```\n",
    "target = reward + gamma * dqn_target(next_state).max(axis=1, keepdims=True, return_indices=True)[0]\n",
    "```\n",
    "\n",
    "##### DoubleDQN:\n",
    "\n",
    "```\n",
    "selected_action = dqn(next_state).argmax(axis=1, keepdims=True)\n",
    "target = reward + gamma * dqn_target(next_state).gather_elements(1, selected_action)\n",
    "```\n",
    "      "
   ]
  },
  {
   "cell_type": "code",
   "execution_count": 2,
   "metadata": {},
   "outputs": [
    {
     "name": "stderr",
     "output_type": "stream",
     "text": [
      "[WARNING] ME(887320:140031115634496,MainProcess):2023-07-08-10:38:34.860.37 [mindspore/run_check/_check_version.py:102] MindSpore version 2.0.0.20230623 and cuda version 11.7.60 does not match, CUDA version [['10.1', '11.1', '11.6']] are supported by MindSpore officially. Please refer to the installation guide for version matching information: https://www.mindspore.cn/install.\n",
      "/home/daiyuxin/anaconda3/envs/cjh1/lib/python3.7/site-packages/mindnlp/utils/download.py:29: TqdmExperimentalWarning: Using `tqdm.autonotebook.tqdm` in notebook mode. Use `tqdm.tqdm` instead to force console mode (e.g. in jupyter console)\n",
      "  from tqdm.autonotebook import tqdm\n"
     ]
    }
   ],
   "source": [
    "import os\n",
    "from typing import Dict, List, Tuple\n",
    "import gymnasium as gym\n",
    "import matplotlib.pyplot as plt\n",
    "import numpy as np\n",
    "import mindspore\n",
    "from mindspore import nn, ops, Tensor\n",
    "from mindnlp.modules import Accumulator\n",
    "from IPython.display import clear_output"
   ]
  },
  {
   "attachments": {},
   "cell_type": "markdown",
   "metadata": {},
   "source": [
    "## Replay buffer\n",
    "\n",
    "Please see *01.dqn.ipynb* for detailed description."
   ]
  },
  {
   "cell_type": "code",
   "execution_count": 3,
   "metadata": {},
   "outputs": [],
   "source": [
    "class ReplayBuffer:\n",
    "    \"\"\"A simple numpy replay buffer.\"\"\"\n",
    "\n",
    "    def __init__(self, obs_dim: int, size: int, batch_size: int = 32):\n",
    "        self.obs_buf = np.zeros([size, obs_dim], dtype=np.float32)\n",
    "        self.next_obs_buf = np.zeros([size, obs_dim], dtype=np.float32)\n",
    "        self.acts_buf = np.zeros([size], dtype=np.float32)\n",
    "        self.rews_buf = np.zeros([size], dtype=np.float32)\n",
    "        self.done_buf = np.zeros(size, dtype=np.float32)\n",
    "        self.max_size, self.batch_size = size, batch_size\n",
    "        self.ptr, self.size, = 0, 0\n",
    "\n",
    "    def store(\n",
    "        self,\n",
    "        obs: np.ndarray,\n",
    "        act: np.ndarray,\n",
    "        rew: float,\n",
    "        next_obs: np.ndarray,\n",
    "        done: bool,\n",
    "    ):\n",
    "        self.obs_buf[self.ptr] = obs\n",
    "        self.next_obs_buf[self.ptr] = next_obs\n",
    "        self.acts_buf[self.ptr] = act\n",
    "        self.rews_buf[self.ptr] = rew\n",
    "        self.done_buf[self.ptr] = done\n",
    "        self.ptr = (self.ptr + 1) % self.max_size\n",
    "        self.size = min(self.size + 1, self.max_size)\n",
    "\n",
    "    def sample_batch(self) -> Dict[str, np.ndarray]:\n",
    "        idxs = np.random.choice(self.size, size=self.batch_size, replace=False)\n",
    "        return dict(obs=self.obs_buf[idxs],\n",
    "                    next_obs=self.next_obs_buf[idxs],\n",
    "                    acts=self.acts_buf[idxs],\n",
    "                    rews=self.rews_buf[idxs],\n",
    "                    done=self.done_buf[idxs])\n",
    "\n",
    "    def __len__(self) -> int:\n",
    "        return self.size"
   ]
  },
  {
   "attachments": {},
   "cell_type": "markdown",
   "metadata": {},
   "source": [
    "## Network\n",
    "\n",
    "We are going to use a simple network architecture with three fully connected layers and two non-linearity functions (ReLU)."
   ]
  },
  {
   "cell_type": "code",
   "execution_count": 4,
   "metadata": {},
   "outputs": [],
   "source": [
    "class Network(nn.Cell):\n",
    "    def __init__(self, in_dim: int, out_dim: int):\n",
    "        \"\"\"Initialization.\"\"\"\n",
    "        super(Network, self).__init__()\n",
    "\n",
    "        self.layers = nn.SequentialCell(\n",
    "            nn.Dense(in_dim, 128),\n",
    "            nn.ReLU(),\n",
    "            nn.Dense(128, 128),\n",
    "            nn.ReLU(),\n",
    "            nn.Dense(128, out_dim)\n",
    "        )\n",
    "\n",
    "    def construct(self, x: Tensor) -> Tensor:\n",
    "        \"\"\"Forward method implementation.\"\"\"\n",
    "        return self.layers(x)"
   ]
  },
  {
   "attachments": {},
   "cell_type": "markdown",
   "metadata": {},
   "source": [
    "## Double DQN Agent\n",
    "\n",
    "Here is a summary of DQNAgent class.\n",
    "\n",
    "| Method           | Note                                                 |\n",
    "| ---              | ---                                                  |\n",
    "|select_action     | select an action from the input state.               |\n",
    "|step              | take an action and return the response of the env.   |\n",
    "|compute_dqn_loss  | return dqn loss.                                     |\n",
    "|update_model      | update the model by gradient descent.                |\n",
    "|target_hard_update| hard update from the local model to the target model.|\n",
    "|train             | train the agent during num_frames.                   |\n",
    "|test              | test the agent (1 episode).                          |\n",
    "|plot              | plot the training progresses.                        |\n",
    "\n",
    "We use `self.dqn` instead of `self.dqn_target` for action selection.\n",
    "\n",
    "```\n",
    "\n",
    "        next_q_value = self.dqn_target(next_state).gather_elements(\n",
    "            1, self.dqn(next_state).argmax(axis=1, keepdims=True)  # Double DQN\n",
    "        )\n",
    "        mask = 1 - done\n",
    "        target = (reward + self.gamma * next_q_value * mask)\n",
    "```"
   ]
  },
  {
   "cell_type": "code",
   "execution_count": 5,
   "metadata": {},
   "outputs": [],
   "source": [
    "class DQNAgent:\n",
    "    \"\"\"DQN Agent interacting with environment.\n",
    "\n",
    "    Attribute:\n",
    "        env (gym.Env): openAI Gym environment\n",
    "        memory (ReplayBuffer): replay memory to store transitions\n",
    "        batch_size (int): batch size for sampling\n",
    "        epsilon (float): parameter for epsilon greedy policy\n",
    "        epsilon_decay (float): step size to decrease epsilon\n",
    "        max_epsilon (float): max value of epsilon\n",
    "        min_epsilon (float): min value of epsilon\n",
    "        target_update (int): period for target model's hard update\n",
    "        gamma (float): discount factor\n",
    "        dqn (Network): model to train and select actions\n",
    "        dqn_target (Network): target model to update\n",
    "        optimizer (torch.optim): optimizer for training dqn\n",
    "        transition (list): transition information including\n",
    "                           state, action, reward, next_state, done\n",
    "    \"\"\"\n",
    "\n",
    "    def __init__(\n",
    "        self,\n",
    "        env: gym.Env,\n",
    "        memory_size: int,\n",
    "        batch_size: int,\n",
    "        target_update: int,\n",
    "        epsilon_decay: float,\n",
    "        seed: int,\n",
    "        max_epsilon: float = 1.0,\n",
    "        min_epsilon: float = 0.1,\n",
    "        gamma: float = 0.99,\n",
    "    ):\n",
    "        \"\"\"Initialization.\n",
    "\n",
    "        Args:\n",
    "            env (gym.Env): openAI Gym environment\n",
    "            memory_size (int): length of memory\n",
    "            batch_size (int): batch size for sampling\n",
    "            target_update (int): period for target model's hard update\n",
    "            epsilon_decay (float): step size to decrease epsilon\n",
    "            lr (float): learning rate\n",
    "            max_epsilon (float): max value of epsilon\n",
    "            min_epsilon (float): min value of epsilon\n",
    "            gamma (float): discount factor\n",
    "        \"\"\"\n",
    "        obs_dim = env.observation_space.shape[0]\n",
    "        action_dim = int(env.action_space.n)\n",
    "\n",
    "        self.env = env\n",
    "        self.memory = ReplayBuffer(obs_dim, memory_size, batch_size)\n",
    "        self.batch_size = batch_size\n",
    "        self.epsilon = max_epsilon\n",
    "        self.epsilon_decay = epsilon_decay\n",
    "        self.seed = seed\n",
    "        self.max_epsilon = max_epsilon\n",
    "        self.min_epsilon = min_epsilon\n",
    "        self.target_update = target_update\n",
    "        self.gamma = gamma\n",
    "\n",
    "        # device: cpu / gpu\n",
    "        os.environ[\"CUDA_VISIBLE_DEVICES\"] = '6'\n",
    "        mindspore.set_context(device_target='GPU')\n",
    "        self.device = 'GPU'\n",
    "        print(self.device)\n",
    "\n",
    "        # networks: dqn, dqn_target\n",
    "        self.dqn = Network(obs_dim, action_dim)\n",
    "        self.dqn_target = Network(obs_dim, action_dim)\n",
    "        mindspore.load_param_into_net(self.dqn_target, self.dqn.parameters_dict())\n",
    "        self.dqn.set_train(True)\n",
    "        self.dqn_target.set_train(False)\n",
    "\n",
    "        # optimizer\n",
    "        self.accumulate_step = 2\n",
    "        self.optimizer = nn.Adam(self.dqn.trainable_params(), learning_rate=1e-3)\n",
    "        self.accumulator = Accumulator(self.optimizer, self.accumulate_step)\n",
    "\n",
    "        # transition to store in memory\n",
    "        self.transition = list()\n",
    "\n",
    "        # mode: train / test\n",
    "        self.is_test = False\n",
    "\n",
    "        # Get gradient function\n",
    "        self.grad_fn = mindspore.value_and_grad(self.forward_fn, None, self.dqn.trainable_params())\n",
    "\n",
    "    def select_action(self, state: np.ndarray) -> np.ndarray:\n",
    "        \"\"\"Select an action from the input state.\"\"\"\n",
    "        # epsilon greedy policy\n",
    "        if self.epsilon > np.random.random():\n",
    "            selected_action = self.env.action_space.sample()\n",
    "        else:\n",
    "            selected_action = self.dqn(\n",
    "                Tensor(state, mindspore.float32).expand_dims(0)\n",
    "            ).argmax()\n",
    "            selected_action = selected_action.asnumpy()\n",
    "\n",
    "        if not self.is_test:\n",
    "            self.transition = [state, selected_action]\n",
    "\n",
    "        return selected_action\n",
    "\n",
    "    def step(self, action: np.ndarray) -> Tuple[np.ndarray, np.float64, bool]:\n",
    "        \"\"\"Take an action and return the response of the env.\"\"\"\n",
    "        next_state, reward, terminated, truncated, _ = self.env.step(action)\n",
    "        done = terminated or truncated\n",
    "\n",
    "        if not self.is_test:\n",
    "            self.transition += [reward, next_state, done]\n",
    "            self.memory.store(*self.transition)\n",
    "\n",
    "        return next_state, reward, done\n",
    "\n",
    "    def forward_fn(self):\n",
    "        \"\"\"Forward function\"\"\"\n",
    "        samples = self.memory.sample_batch()\n",
    "        loss = self._compute_dqn_loss(samples)\n",
    "        return loss / self.accumulate_step\n",
    "\n",
    "    def train_step(self) -> Tensor:\n",
    "        \"\"\"Training steps\"\"\"\n",
    "        loss, grads = self.grad_fn()\n",
    "        loss = ops.depend(loss, self.accumulator(grads))\n",
    "        return loss\n",
    "\n",
    "    def update_model(self) -> Tensor:\n",
    "        \"\"\"Update the model by gradient descent.\"\"\"\n",
    "        loss = self.train_step()\n",
    "\n",
    "        return loss.item(0) * self.accumulate_step\n",
    "\n",
    "    def train(self, num_frames: int, plotting_interval: int = 200):\n",
    "        \"\"\"Train the agent.\"\"\"\n",
    "        self.is_test = False\n",
    "\n",
    "        state, _ = self.env.reset(seed=self.seed)\n",
    "        update_cnt = 0\n",
    "        epsilons = []\n",
    "        losses = []\n",
    "        scores = []\n",
    "        score = 0\n",
    "\n",
    "        for frame_idx in range(1, num_frames + 1):\n",
    "            action = self.select_action(state)\n",
    "            next_state, reward, done = self.step(action)\n",
    "\n",
    "            state = next_state\n",
    "            score += reward\n",
    "\n",
    "            # if episode ends\n",
    "            if done:\n",
    "                state, _ = self.env.reset(seed=self.seed)\n",
    "                scores.append(score)\n",
    "                score = 0\n",
    "\n",
    "            # if training is ready\n",
    "            if len(self.memory) >= self.batch_size:\n",
    "                loss = self.update_model()\n",
    "                losses.append(loss)\n",
    "                update_cnt += 1\n",
    "\n",
    "                # linearly decrease epsilon\n",
    "                self.epsilon = max(\n",
    "                    self.min_epsilon, self.epsilon - (\n",
    "                        self.max_epsilon - self.min_epsilon\n",
    "                    ) * self.epsilon_decay\n",
    "                )\n",
    "                epsilons.append(self.epsilon)\n",
    "\n",
    "                # if hard update is needed\n",
    "                if update_cnt % self.target_update == 0:\n",
    "                    self._target_hard_update()\n",
    "\n",
    "            # plotting\n",
    "            if frame_idx % plotting_interval == 0:\n",
    "                self._plot(frame_idx, scores, losses, epsilons)\n",
    "\n",
    "        self.env.close()\n",
    "\n",
    "    def test(self, video_folder: str) -> None:\n",
    "        \"\"\"Test the agent.\"\"\"\n",
    "        self.is_test = True\n",
    "\n",
    "        # for recording a video\n",
    "        naive_env = self.env\n",
    "        self.env = gym.wrappers.RecordVideo(self.env, video_folder=video_folder)\n",
    "\n",
    "        state, _ = self.env.reset(seed=self.seed)\n",
    "        done = False\n",
    "        score = 0\n",
    "\n",
    "        while not done:\n",
    "            action = self.select_action(state)\n",
    "            next_state, reward, done = self.step(action)\n",
    "\n",
    "            state = next_state\n",
    "            score += reward\n",
    "\n",
    "        print(\"score: \", score)\n",
    "        self.env.close()\n",
    "\n",
    "        # reset\n",
    "        self.env = naive_env\n",
    "\n",
    "    def _compute_dqn_loss(self, samples: Dict[str, np.ndarray]) -> Tensor:\n",
    "        \"\"\"Return dqn loss.\"\"\"\n",
    "        state = Tensor(samples[\"obs\"], mindspore.float32)\n",
    "        next_state = Tensor(samples[\"next_obs\"], mindspore.float32)\n",
    "        action = Tensor(samples[\"acts\"].reshape(-1, 1), mindspore.int64)\n",
    "        reward = Tensor(samples[\"rews\"].reshape(-1, 1), mindspore.float32)\n",
    "        done = Tensor(samples[\"done\"].reshape(-1, 1), mindspore.float32)\n",
    "\n",
    "        # G_t   = r + gamma * v(s_{t+1})  if state != Terminal\n",
    "        #       = r                       otherwise\n",
    "        curr_q_value = self.dqn(state).gather_elements(1, action)\n",
    "        next_q_value = self.dqn_target(next_state).gather_elements(  # Double DQN\n",
    "            1, self.dqn(next_state).argmax(axis=1, keepdims=True)\n",
    "        )\n",
    "        mask = 1 - done\n",
    "        target = (reward + self.gamma * next_q_value * mask)\n",
    "\n",
    "        # calculate dqn loss\n",
    "        loss = ops.smooth_l1_loss(curr_q_value, target, reduction=\"mean\")\n",
    "\n",
    "        return loss\n",
    "\n",
    "    def _target_hard_update(self):\n",
    "        \"\"\"Hard update: target <- local.\"\"\"\n",
    "        mindspore.load_param_into_net(self.dqn_target, self.dqn.parameters_dict())\n",
    "\n",
    "    def _plot(\n",
    "        self,\n",
    "        frame_idx: int,\n",
    "        scores: List[float],\n",
    "        losses: List[float],\n",
    "        epsilons: List[float],\n",
    "    ):\n",
    "        \"\"\"Plot the training progresses.\"\"\"\n",
    "        clear_output(True)\n",
    "        plt.figure(figsize=(20, 5))\n",
    "        plt.subplot(131)\n",
    "        plt.title('frame %s. score: %s' % (frame_idx, np.mean(scores[-10:])))\n",
    "        plt.plot(scores)\n",
    "        plt.subplot(132)\n",
    "        plt.title('loss')\n",
    "        plt.plot(losses)\n",
    "        plt.subplot(133)\n",
    "        plt.title('epsilons')\n",
    "        plt.plot(epsilons)\n",
    "        plt.show()"
   ]
  },
  {
   "attachments": {},
   "cell_type": "markdown",
   "metadata": {},
   "source": [
    "## Environment\n",
    "\n",
    "You can see the [code](https://github.com/Farama-Foundation/Gymnasium/blob/main/gymnasium/envs/classic_control/cartpole.py) and [configurations](https://github.com/Farama-Foundation/Gymnasium/blob/main/gymnasium/envs/classic_control/cartpole.py#L91) of CartPole-v1 from Farama Gymnasium's repository."
   ]
  },
  {
   "cell_type": "code",
   "execution_count": 6,
   "metadata": {},
   "outputs": [],
   "source": [
    "# environment\n",
    "env = gym.make(\"CartPole-v1\", max_episode_steps=200, render_mode=\"rgb_array\")"
   ]
  },
  {
   "attachments": {},
   "cell_type": "markdown",
   "metadata": {},
   "source": [
    "## Set random seed"
   ]
  },
  {
   "cell_type": "code",
   "execution_count": 7,
   "metadata": {},
   "outputs": [],
   "source": [
    "seed = 777\n",
    "\n",
    "\n",
    "def seed_mindspore(seed):\n",
    "    \"\"\"Set Random Seed\"\"\"\n",
    "    mindspore.set_seed(seed)\n",
    "\n",
    "\n",
    "np.random.seed(seed)\n",
    "seed_mindspore(seed)"
   ]
  },
  {
   "attachments": {},
   "cell_type": "markdown",
   "metadata": {},
   "source": [
    "## Initialize"
   ]
  },
  {
   "cell_type": "code",
   "execution_count": 8,
   "metadata": {},
   "outputs": [
    {
     "name": "stdout",
     "output_type": "stream",
     "text": [
      "GPU\n"
     ]
    }
   ],
   "source": [
    "# parameters\n",
    "num_frames = 10000\n",
    "memory_size = 1000\n",
    "batch_size = 32\n",
    "target_update = 200\n",
    "epsilon_decay = 1 / 2000\n",
    "\n",
    "# train\n",
    "agent = DQNAgent(env, memory_size, batch_size, target_update, epsilon_decay, seed)"
   ]
  },
  {
   "attachments": {},
   "cell_type": "markdown",
   "metadata": {},
   "source": [
    "## Train"
   ]
  },
  {
   "cell_type": "code",
   "execution_count": 9,
   "metadata": {},
   "outputs": [
    {
     "data": {
      "image/png": "[encoded data removed]",
      "text/plain": [
       "<Figure size 1440x360 with 3 Axes>"
      ]
     },
     "metadata": {
      "needs_background": "light"
     },
     "output_type": "display_data"
    }
   ],
   "source": [
    "agent.train(num_frames)"
   ]
  },
  {
   "attachments": {},
   "cell_type": "markdown",
   "metadata": {},
   "source": [
    "## Test\n",
    "\n",
    "Run the trained agent (1 episode)."
   ]
  },
  {
   "cell_type": "code",
   "execution_count": 10,
   "metadata": {},
   "outputs": [
    {
     "name": "stderr",
     "output_type": "stream",
     "text": [
      "/home/daiyuxin/anaconda3/envs/cjh1/lib/python3.7/site-packages/gymnasium/wrappers/record_video.py:88: UserWarning: \u001b[33mWARN: Overwriting existing videos at /data1/cjh1/rainbow-is-all-you-need-MindSpore/videos/double_q folder (try specifying a different `video_folder` for the `RecordVideo` wrapper if this is not desired)\u001b[0m\n",
      "  f\"Overwriting existing videos at {self.video_folder} folder \"\n"
     ]
    },
    {
     "name": "stdout",
     "output_type": "stream",
     "text": [
      "Moviepy - Building video /data1/cjh1/rainbow-is-all-you-need-MindSpore/videos/double_q/rl-video-episode-0.mp4.\n",
      "Moviepy - Writing video /data1/cjh1/rainbow-is-all-you-need-MindSpore/videos/double_q/rl-video-episode-0.mp4\n",
      "\n"
     ]
    },
    {
     "name": "stderr",
     "output_type": "stream",
     "text": [
      "                                                               "
     ]
    },
    {
     "name": "stdout",
     "output_type": "stream",
     "text": [
      "Moviepy - Done !\n",
      "Moviepy - video ready /data1/cjh1/rainbow-is-all-you-need-MindSpore/videos/double_q/rl-video-episode-0.mp4\n",
      "score:  185.0\n"
     ]
    },
    {
     "name": "stderr",
     "output_type": "stream",
     "text": [
      "\r"
     ]
    }
   ],
   "source": [
    "video_folder = \"videos/double_q\"\n",
    "agent.test(video_folder=video_folder)"
   ]
  },
  {
   "attachments": {},
   "cell_type": "markdown",
   "metadata": {},
   "source": [
    "## Render"
   ]
  },
  {
   "cell_type": "code",
   "execution_count": 12,
   "metadata": {},
   "outputs": [
    {
     "data": {
      "text/html": [
       "\n",
       "        <video width=\"320\" height=\"240\" alt=\"test\" controls>\n",
       "        <source src=\"data:video/mp4;base64,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\" type=\"video/mp4\"/>\n",
       "        </video>\n",
       "        "
      ],
      "text/plain": [
       "<IPython.core.display.HTML object>"
      ]
     },
     "metadata": {},
     "output_type": "display_data"
    },
    {
     "name": "stdout",
     "output_type": "stream",
     "text": [
      "Played: videos/double_q/rl-video-episode-0.mp4\n"
     ]
    }
   ],
   "source": [
    "import base64\n",
    "import glob\n",
    "import io\n",
    "\n",
    "from IPython.display import HTML, display\n",
    "\n",
    "\n",
    "def ipython_show_video(path: str) -> None:\n",
    "    \"\"\"Show a video at `path` within IPython Notebook.\"\"\"\n",
    "    if not os.path.isfile(path):\n",
    "        raise NameError(\"Cannot access: {}\".format(path))\n",
    "\n",
    "    video = io.open(path, \"r+b\").read()\n",
    "    encoded = base64.b64encode(video)\n",
    "\n",
    "    display(HTML(\n",
    "        data=\"\"\"\n",
    "        <video width=\"320\" height=\"240\" alt=\"test\" controls>\n",
    "        <source src=\"data:video/mp4;base64,{0}\" type=\"video/mp4\"/>\n",
    "        </video>\n",
    "        \"\"\".format(encoded.decode(\"ascii\"))\n",
    "    ))\n",
    "\n",
    "\n",
    "def show_latest_video(video_folder: str) -> str:\n",
    "    \"\"\"Show the most recently recorded video from video folder.\"\"\"\n",
    "    list_of_files = glob.glob(os.path.join(video_folder, \"*.mp4\"))\n",
    "    latest_file = max(list_of_files, key=os.path.getctime)\n",
    "    ipython_show_video(latest_file)\n",
    "    return latest_file\n",
    "\n",
    "\n",
    "latest_file = show_latest_video(video_folder=video_folder)\n",
    "print(\"Played:\", latest_file)"
   ]
  }
 ],
 "metadata": {
  "kernelspec": {
   "display_name": "cjh1",
   "language": "python",
   "name": "python3"
  },
  "language_info": {
   "codemirror_mode": {
    "name": "ipython",
    "version": 3
   },
   "file_extension": ".py",
   "mimetype": "text/x-python",
   "name": "python",
   "nbconvert_exporter": "python",
   "pygments_lexer": "ipython3",
   "version": "3.7.13"
  }
 },
 "nbformat": 4,
 "nbformat_minor": 4
}
