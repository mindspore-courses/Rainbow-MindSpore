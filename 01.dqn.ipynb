{
 "cells": [
  {
   "attachments": {},
   "cell_type": "markdown",
   "metadata": {},
   "source": [
    "## Configurations for Colab"
   ]
  },
  {
   "cell_type": "code",
   "execution_count": 1,
   "metadata": {},
   "outputs": [
    {
     "data": {
      "text/plain": [
       "<pyvirtualdisplay.display.Display at 0x7fd0e43a9990>"
      ]
     },
     "execution_count": 1,
     "metadata": {},
     "output_type": "execute_result"
    }
   ],
   "source": [
    "# 在Ubuntu服务器上设置虚拟显示\n",
    "# sudo apt update\n",
    "# sudo apt install python-opengl ffmpeg xvfb\n",
    "# 启动虚拟X服务器\n",
    "# Xvfb :1 -screen 0 1024x768x24 &\n",
    "# export DISPLAY=:1\n",
    "\n",
    "from pyvirtualdisplay import Display\n",
    "\n",
    "# Start virtual display\n",
    "dis = Display(visible=0, size=(400, 400))\n",
    "dis.start()"
   ]
  },
  {
   "attachments": {},
   "cell_type": "markdown",
   "metadata": {},
   "source": [
    "# 01. DQN\n",
    "\n",
    "[V. Mnih et al., \"Human-level control through deep reinforcement learning.\" Nature, 518\n",
    "(7540):529–533, 2015.](https://storage.googleapis.com/deepmind-media/dqn/DQNNaturePaper.pdf)\n",
    "\n",
    "Reinforcement learning is known to be unstable or even to diverge when a nonlinear function approximator such as a neural network is used to represent the action-value (also known as $Q$) function. This instability has several causes: the correlations present in the sequence of observations, the fact that small updates to $Q$ may significantly change the policy and therefore change the data distribution, and the correlations between the action-values ($Q$) and the target values $r + \\gamma \\max_{a'} Q(s', a')$.\n",
    "\n",
    "The authors suggest two key ideas to address these instabilities with a novel variant of Q-learning: Replay buffer and Fixed Q-target.\n",
    "\n",
    "#### Uniformly random sampling from Experience Replay Memory\n",
    "\n",
    "Reinforcement learning agent stores the experiences consecutively in the buffer, so adjacent ($s, a, r, s'$) transitions stored are highly likely to have correlation. To remove this, the agent samples experiences uniformly at random from the pool of stored samples $\\big( (s, a, r, s') \\sim U(D) \\big)$. See sample_batch method of ReplayBuffer class for more details.\n",
    "\n",
    "#### Fixed Q-target\n",
    "\n",
    "DQN uses an iterative update that adjusts the action-values ($Q$) towards target values that are only periodically updated, thereby reducing correlations with the target; if not, it is easily divergy because the target continuously moves. The Q-learning update at iteration $i$ uses the following loss function:\n",
    "\n",
    "$$\n",
    "L_i(\\theta_i) = \\mathbb{E}_{(s,a,r,s') \\sim U(D)} \\big[ \\big( r + \\gamma \\max_{a'} Q(s',a';\\theta_i^-) - Q(s, a; \\theta_i) \\big)^2 \\big]\n",
    "$$\n",
    "\n",
    "in which $\\gamma$ is the discount factor determining the agent’s horizon, $\\theta_i$ are the parameters of the Q-network at iteration $i$ and $\\theta_i^-$ are the network parameters used to compute the target at iteration $i$. The target network parameters $\\theta_i^-$ are only updated with the Q-network parameters ($\\theta_i$) every C steps and are held fixed between individual updates. ($C = 200$ in CartPole-v0)\n",
    "\n",
    "#### For more stability: Gradient clipping\n",
    "\n",
    "The authors also found it helpful to clip the error term from the update $r + \\gamma \\max_{a'} Q(s', a'; \\theta_i^-) - Q(s,a,;\\theta_i)$ to be between -1 and 1. Because the absolute value loss function $|x|$ has a derivative of -1 for all negative values of x and a derivative of 1 for all positive values of x, clipping the squared error to be between -1 and 1 corresponds to using an absolute value loss function for errors outside of the (-1,1) interval. This form of error clipping further improved the stability of the algorithm."
   ]
  },
  {
   "cell_type": "code",
   "execution_count": 2,
   "metadata": {},
   "outputs": [
    {
     "name": "stderr",
     "output_type": "stream",
     "text": [
      "[WARNING] ME(892304:140535302223680,MainProcess):2023-07-08-10:52:00.336.381 [mindspore/run_check/_check_version.py:102] MindSpore version 2.0.0.20230623 and cuda version 11.7.60 does not match, CUDA version [['10.1', '11.1', '11.6']] are supported by MindSpore officially. Please refer to the installation guide for version matching information: https://www.mindspore.cn/install.\n",
      "/home/daiyuxin/anaconda3/envs/cjh1/lib/python3.7/site-packages/mindnlp/utils/download.py:29: TqdmExperimentalWarning: Using `tqdm.autonotebook.tqdm` in notebook mode. Use `tqdm.tqdm` instead to force console mode (e.g. in jupyter console)\n",
      "  from tqdm.autonotebook import tqdm\n"
     ]
    }
   ],
   "source": [
    "import os\n",
    "import gymnasium as gym\n",
    "import matplotlib.pyplot as plt\n",
    "import numpy as np\n",
    "import mindspore\n",
    "from typing import Dict, List, Tuple\n",
    "from mindspore import nn, ops, Tensor\n",
    "from mindnlp.modules import Accumulator\n",
    "from IPython.display import clear_output"
   ]
  },
  {
   "attachments": {},
   "cell_type": "markdown",
   "metadata": {},
   "source": [
    "## Replay buffer\n",
    "\n",
    "Typically, people implement replay buffers with one of the following three data structures:\n",
    "\n",
    "  - collections.deque\n",
    "  - list\n",
    "  - numpy.ndarray\n",
    "  \n",
    "**deque** is very easy to handle once you initialize its maximum length (e.g. deque(maxlen=buffer_size)). However, the indexing operation of deque gets terribly slow as it grows up because it is [internally doubly linked list](https://wiki.python.org/moin/TimeComplexity#collections.deque). On the other hands, **list** is an array, so it is relatively faster than deque when you sample batches at every step. Its amortized cost of  *Get item* is [O(1)](https://wiki.python.org/moin/TimeComplexity#list).\n",
    "\n",
    "Last but not least, let's see **numpy.ndarray**. numpy.ndarray is even faster than list due to the fact that it is [a homogeneous array of fixed-size items](https://docs.scipy.org/doc/numpy/reference/generated/numpy.ndarray.html#numpy.ndarray), so you can get the benefits of [locality of reference](https://en.wikipedia.org/wiki/Locality_of_reference). Whereas list is an array of pointers to objects, even when all of them are of the same type.\n",
    "\n",
    "Here, we are going to implement a replay buffer using numpy.ndarray.\n",
    "\n",
    "\n",
    "Reference: [OpenAI spinning-up](https://github.com/openai/spinningup/blob/master/spinup/algos/sac/sac.py#L10)"
   ]
  },
  {
   "cell_type": "code",
   "execution_count": 3,
   "metadata": {},
   "outputs": [],
   "source": [
    "class ReplayBuffer:\n",
    "    \"\"\"A simple numpy replay buffer.\"\"\"\n",
    "\n",
    "    def __init__(self, obs_dim: int, size: int, batch_size: int = 32):\n",
    "        self.obs_buf = np.zeros([size, obs_dim], dtype=np.float32)\n",
    "        self.next_obs_buf = np.zeros([size, obs_dim], dtype=np.float32)\n",
    "        self.acts_buf = np.zeros([size], dtype=np.float32)\n",
    "        self.rews_buf = np.zeros([size], dtype=np.float32)\n",
    "        self.done_buf = np.zeros(size, dtype=np.float32)\n",
    "        self.max_size, self.batch_size = size, batch_size\n",
    "        self.ptr, self.size, = 0, 0\n",
    "\n",
    "    def store(\n",
    "        self,\n",
    "        obs: np.ndarray,\n",
    "        act: np.ndarray,\n",
    "        rew: float,\n",
    "        next_obs: np.ndarray,\n",
    "        done: bool,\n",
    "    ):\n",
    "        self.obs_buf[self.ptr] = obs\n",
    "        self.next_obs_buf[self.ptr] = next_obs\n",
    "        self.acts_buf[self.ptr] = act\n",
    "        self.rews_buf[self.ptr] = rew\n",
    "        self.done_buf[self.ptr] = done\n",
    "        self.ptr = (self.ptr + 1) % self.max_size\n",
    "        self.size = min(self.size + 1, self.max_size)\n",
    "\n",
    "    def sample_batch(self) -> Dict[str, np.ndarray]:\n",
    "        idxs = np.random.choice(self.size, size=self.batch_size, replace=False)\n",
    "        return dict(obs=self.obs_buf[idxs],\n",
    "                    next_obs=self.next_obs_buf[idxs],\n",
    "                    acts=self.acts_buf[idxs],\n",
    "                    rews=self.rews_buf[idxs],\n",
    "                    done=self.done_buf[idxs])\n",
    "\n",
    "    def __len__(self) -> int:\n",
    "        return self.size"
   ]
  },
  {
   "attachments": {},
   "cell_type": "markdown",
   "metadata": {},
   "source": [
    "## Network\n",
    "\n",
    "We are going to use a simple network architecture with three fully connected layers and two non-linearity functions (ReLU)."
   ]
  },
  {
   "cell_type": "code",
   "execution_count": 4,
   "metadata": {},
   "outputs": [],
   "source": [
    "class Network(nn.Cell):\n",
    "    def __init__(self, in_dim: int, out_dim: int):\n",
    "        \"\"\"Initialization.\"\"\"\n",
    "        super(Network, self).__init__()\n",
    "\n",
    "        self.layers = nn.SequentialCell(\n",
    "            nn.Dense(in_dim, 128),\n",
    "            nn.ReLU(),\n",
    "            nn.Dense(128, 128),\n",
    "            nn.ReLU(),\n",
    "            nn.Dense(128, out_dim)\n",
    "        )\n",
    "\n",
    "    def construct(self, x: Tensor) -> Tensor:\n",
    "        \"\"\"construct method implementation.\"\"\"\n",
    "        return self.layers(x)"
   ]
  },
  {
   "attachments": {},
   "cell_type": "markdown",
   "metadata": {},
   "source": [
    "## DQN Agent\n",
    "\n",
    "Here is a summary of DQNAgent class.\n",
    "\n",
    "| Method           | Note                                                 |\n",
    "| ---              | ---                                                  |\n",
    "|select_action     | select an action from the input state.               |\n",
    "|step              | take an action and return the response of the env.   |\n",
    "|compute_dqn_loss  | return dqn loss.                                     |\n",
    "|update_model      | update the model by gradient descent.                |\n",
    "|target_hard_update| hard update from the local model to the target model.|\n",
    "|train             | train the agent during num_frames.                   |\n",
    "|test              | test the agent (1 episode).                          |\n",
    "|plot              | plot the training progresses.                        |\n"
   ]
  },
  {
   "cell_type": "code",
   "execution_count": 5,
   "metadata": {},
   "outputs": [],
   "source": [
    "class DQNAgent:\n",
    "    \"\"\"DQN Agent interacting with environment.\n",
    "\n",
    "    Attribute:\n",
    "        env (gym.Env): openAI Gym environment\n",
    "        memory (ReplayBuffer): replay memory to store transitions\n",
    "        batch_size (int): batch size for sampling\n",
    "        epsilon (float): parameter for epsilon greedy policy\n",
    "        epsilon_decay (float): step size to decrease epsilon\n",
    "        max_epsilon (float): max value of epsilon\n",
    "        min_epsilon (float): min value of epsilon\n",
    "        target_update (int): period for target model's hard update\n",
    "        gamma (float): discount factor\n",
    "        dqn (Network): model to train and select actions\n",
    "        dqn_target (Network): target model to update\n",
    "        optimizer (nn.optim): optimizer for training dqn\n",
    "        transition (list): transition information including\n",
    "                           state, action, reward, next_state, done\n",
    "    \"\"\"\n",
    "\n",
    "    def __init__(\n",
    "        self,\n",
    "        env: gym.Env,\n",
    "        memory_size: int,\n",
    "        batch_size: int,\n",
    "        target_update: int,\n",
    "        epsilon_decay: float,\n",
    "        seed: int,\n",
    "        max_epsilon: float = 1.0,\n",
    "        min_epsilon: float = 0.1,\n",
    "        gamma: float = 0.99,\n",
    "    ):\n",
    "        \"\"\"Initialization.\n",
    "\n",
    "        Args:\n",
    "            env (gym.Env): openAI Gym environment\n",
    "            memory_size (int): length of memory\n",
    "            batch_size (int): batch size for sampling\n",
    "            target_update (int): period for target model's hard update\n",
    "            epsilon_decay (float): step size to decrease epsilon\n",
    "            lr (float): learning rate\n",
    "            max_epsilon (float): max value of epsilon\n",
    "            min_epsilon (float): min value of epsilon\n",
    "            gamma (float): discount factor\n",
    "        \"\"\"\n",
    "        obs_dim = env.observation_space.shape[0]\n",
    "        action_dim = int(env.action_space.n)\n",
    "\n",
    "        self.env = env\n",
    "        self.memory = ReplayBuffer(obs_dim, memory_size, batch_size)\n",
    "        self.batch_size = batch_size\n",
    "        self.epsilon = max_epsilon\n",
    "        self.epsilon_decay = epsilon_decay\n",
    "        self.seed = seed\n",
    "        self.max_epsilon = max_epsilon\n",
    "        self.min_epsilon = min_epsilon\n",
    "        self.target_update = target_update\n",
    "        self.gamma = gamma\n",
    "\n",
    "        # device: cpu / gpu\n",
    "        os.environ[\"CUDA_VISIBLE_DEVICES\"] = '6'\n",
    "        mindspore.set_context(device_target='GPU')\n",
    "        self.device = 'GPU'\n",
    "        print(self.device)\n",
    "\n",
    "        # networks: dqn, dqn_target\n",
    "        self.dqn = Network(obs_dim, action_dim)\n",
    "        self.dqn_target = Network(obs_dim, action_dim)\n",
    "        mindspore.load_param_into_net(self.dqn_target, self.dqn.parameters_dict())\n",
    "        self.dqn.set_train(True)\n",
    "        self.dqn_target.set_train(False)\n",
    "\n",
    "        # optimizer\n",
    "        self.accumulate_step = 2\n",
    "        self.optimizer = nn.Adam(self.dqn.trainable_params(), learning_rate=5e-3)\n",
    "        self.accumulator = Accumulator(self.optimizer, self.accumulate_step)\n",
    "\n",
    "        # transition to store in memory\n",
    "        self.transition = list()\n",
    "\n",
    "        # mode: train / test\n",
    "        self.is_test = False\n",
    "\n",
    "        # Get gradient function\n",
    "        self.grad_fn = mindspore.value_and_grad(self.forward_fn, None, self.dqn.trainable_params())\n",
    "\n",
    "    def select_action(self, state: np.ndarray) -> np.ndarray:\n",
    "        \"\"\"Select an action from the input state.\"\"\"\n",
    "        # epsilon greedy policy\n",
    "        if self.epsilon > np.random.random():\n",
    "            selected_action = self.env.action_space.sample()\n",
    "        else:\n",
    "            selected_action = self.dqn(\n",
    "                Tensor(state, mindspore.float32).expand_dims(0)\n",
    "            ).argmax()\n",
    "            selected_action = selected_action.asnumpy()\n",
    "\n",
    "        if not self.is_test:\n",
    "            self.transition = [state, selected_action]\n",
    "\n",
    "        return selected_action\n",
    "\n",
    "    def step(self, action: np.ndarray) -> Tuple[np.ndarray, np.float64, bool]:\n",
    "        \"\"\"Take an action and return the response of the env.\"\"\"\n",
    "        next_state, reward, terminated, truncated, _ = self.env.step(action)\n",
    "        done = terminated or truncated\n",
    "\n",
    "        if not self.is_test:\n",
    "            self.transition += [reward, next_state, done]\n",
    "            self.memory.store(*self.transition)\n",
    "\n",
    "        return next_state, reward, done\n",
    "\n",
    "    def forward_fn(self):\n",
    "        \"\"\"Forward function\"\"\"\n",
    "        samples = self.memory.sample_batch()\n",
    "        loss = self._compute_dqn_loss(samples)\n",
    "        return loss / self.accumulate_step\n",
    "\n",
    "    def train_step(self) -> Tensor:\n",
    "        \"\"\"Training steps\"\"\"\n",
    "        loss, grads = self.grad_fn()\n",
    "        loss = ops.depend(loss, self.accumulator(grads))\n",
    "        return loss\n",
    "\n",
    "    def update_model(self) -> Tensor:\n",
    "        \"\"\"Update the model by gradient descent.\"\"\"\n",
    "        loss = self.train_step()\n",
    "\n",
    "        return loss.item(0) * self.accumulate_step\n",
    "\n",
    "    def train(self, num_frames: int, plotting_interval: int = 200):\n",
    "        \"\"\"Train the agent.\"\"\"\n",
    "        self.is_test = False\n",
    "\n",
    "        state, _ = self.env.reset(seed=self.seed)\n",
    "        update_cnt = 0\n",
    "        epsilons = []\n",
    "        losses = []\n",
    "        scores = []\n",
    "        score = 0\n",
    "\n",
    "        for frame_idx in range(1, num_frames + 1):\n",
    "            action = self.select_action(state)\n",
    "            next_state, reward, done = self.step(action)\n",
    "\n",
    "            state = next_state\n",
    "            score += reward\n",
    "\n",
    "            # if episode ends\n",
    "            if done:\n",
    "                state, _ = self.env.reset(seed=self.seed)\n",
    "                scores.append(score)\n",
    "                score = 0\n",
    "\n",
    "            # if training is ready\n",
    "            if len(self.memory) >= self.batch_size:\n",
    "                loss = self.update_model()\n",
    "                losses.append(loss)\n",
    "                update_cnt += 1\n",
    "\n",
    "                # linearly decrease epsilon\n",
    "                self.epsilon = max(\n",
    "                    self.min_epsilon, self.epsilon - (\n",
    "                        self.max_epsilon - self.min_epsilon\n",
    "                    ) * self.epsilon_decay\n",
    "                )\n",
    "                epsilons.append(self.epsilon)\n",
    "\n",
    "                # if hard update is needed\n",
    "                if update_cnt % self.target_update == 0:\n",
    "                    self._target_hard_update()\n",
    "\n",
    "            # plotting\n",
    "            if frame_idx % plotting_interval == 0:\n",
    "                self._plot(frame_idx, scores, losses, epsilons)\n",
    "\n",
    "        self.env.close()\n",
    "\n",
    "    def test(self, video_folder: str) -> None:\n",
    "        \"\"\"Test the agent.\"\"\"\n",
    "        self.is_test = True\n",
    "\n",
    "        # for recording a video\n",
    "        naive_env = self.env\n",
    "        self.env = gym.wrappers.RecordVideo(self.env, video_folder=video_folder)\n",
    "\n",
    "        state, _ = self.env.reset(seed=self.seed)\n",
    "        done = False\n",
    "        score = 0\n",
    "\n",
    "        while not done:\n",
    "            action = self.select_action(state)\n",
    "            next_state, reward, done = self.step(action)\n",
    "\n",
    "            state = next_state\n",
    "            score += reward\n",
    "\n",
    "        print(\"score: \", score)\n",
    "        self.env.close()\n",
    "\n",
    "        # reset\n",
    "        self.env = naive_env\n",
    "\n",
    "    def _compute_dqn_loss(self, samples: Dict[str, np.ndarray]) -> Tensor:\n",
    "        \"\"\"Return dqn loss.\"\"\"\n",
    "        state = Tensor(samples[\"obs\"], mindspore.float32)\n",
    "        next_state = Tensor(samples[\"next_obs\"], mindspore.float32)\n",
    "        action = Tensor(samples[\"acts\"].reshape(-1, 1), mindspore.int64)\n",
    "        reward = Tensor(samples[\"rews\"].reshape(-1, 1), mindspore.float32)\n",
    "        done = Tensor(samples[\"done\"].reshape(-1, 1), mindspore.float32)\n",
    "\n",
    "        # G_t   = r + gamma * v(s_{t+1})  if state != Terminal\n",
    "        #       = r                       otherwise\n",
    "        curr_q_value = self.dqn(state).gather_elements(1, action)\n",
    "        next_q_value = self.dqn_target(\n",
    "            next_state\n",
    "        ).max(axis=1, keepdims=True, return_indices=True)[0]\n",
    "        mask = 1 - done\n",
    "        target = (reward + self.gamma * next_q_value * mask)\n",
    "\n",
    "        # calculate dqn loss\n",
    "        # loss = nn.SmoothL1Loss(reduction=\"mean\")(curr_q_value, target)\n",
    "        loss = ops.smooth_l1_loss(curr_q_value, target, reduction=\"mean\")\n",
    "\n",
    "        return loss\n",
    "\n",
    "    def _target_hard_update(self):\n",
    "        \"\"\"Hard update: target <- local.\"\"\"\n",
    "        mindspore.load_param_into_net(self.dqn_target, self.dqn.parameters_dict())\n",
    "\n",
    "    def _plot(\n",
    "        self,\n",
    "        frame_idx: int,\n",
    "        scores: List[float],\n",
    "        losses: List[float],\n",
    "        epsilons: List[float],\n",
    "    ):\n",
    "        \"\"\"Plot the training progresses.\"\"\"\n",
    "        clear_output(True)\n",
    "        plt.figure(figsize=(20, 5))\n",
    "        plt.subplot(131)\n",
    "        plt.title('frame %s. score: %s' % (frame_idx, np.mean(scores[-10:])))\n",
    "        plt.plot(scores)\n",
    "        plt.subplot(132)\n",
    "        plt.title('loss')\n",
    "        plt.plot(losses)\n",
    "        plt.subplot(133)\n",
    "        plt.title('epsilons')\n",
    "        plt.plot(epsilons)\n",
    "        plt.show()"
   ]
  },
  {
   "attachments": {},
   "cell_type": "markdown",
   "metadata": {},
   "source": [
    "## Environment\n",
    "\n",
    "You can see the [code](https://github.com/Farama-Foundation/Gymnasium/blob/main/gymnasium/envs/classic_control/cartpole.py) and [configurations](https://github.com/Farama-Foundation/Gymnasium/blob/main/gymnasium/envs/classic_control/cartpole.py#L91) of CartPole-v1 from Farama Gymnasium's repository."
   ]
  },
  {
   "cell_type": "code",
   "execution_count": 6,
   "metadata": {},
   "outputs": [],
   "source": [
    "# environment\n",
    "env = gym.make(\"CartPole-v1\", max_episode_steps=200, render_mode=\"rgb_array\")"
   ]
  },
  {
   "attachments": {},
   "cell_type": "markdown",
   "metadata": {},
   "source": [
    "## Set random seed"
   ]
  },
  {
   "cell_type": "code",
   "execution_count": 7,
   "metadata": {},
   "outputs": [],
   "source": [
    "seed = 777\n",
    "\n",
    "\n",
    "def seed_mindspore(seed):\n",
    "    \"\"\"Set Random Seed\"\"\"\n",
    "    mindspore.set_seed(seed)\n",
    "\n",
    "\n",
    "np.random.seed(seed)\n",
    "seed_mindspore(seed)"
   ]
  },
  {
   "attachments": {},
   "cell_type": "markdown",
   "metadata": {},
   "source": [
    "## Initialize"
   ]
  },
  {
   "cell_type": "code",
   "execution_count": 8,
   "metadata": {},
   "outputs": [
    {
     "name": "stdout",
     "output_type": "stream",
     "text": [
      "GPU\n"
     ]
    }
   ],
   "source": [
    "# parameters\n",
    "num_frames = 10000\n",
    "memory_size = 1000\n",
    "batch_size = 32\n",
    "target_update = 100\n",
    "epsilon_decay = 1 / 2000\n",
    "\n",
    "agent = DQNAgent(env, memory_size, batch_size, target_update, epsilon_decay, seed)"
   ]
  },
  {
   "attachments": {},
   "cell_type": "markdown",
   "metadata": {},
   "source": [
    "## Train"
   ]
  },
  {
   "cell_type": "code",
   "execution_count": 9,
   "metadata": {},
   "outputs": [
    {
     "data": {
      "image/png": "[encoded data removed]",
      "text/plain": [
       "<Figure size 1440x360 with 3 Axes>"
      ]
     },
     "metadata": {
      "needs_background": "light"
     },
     "output_type": "display_data"
    }
   ],
   "source": [
    "agent.train(num_frames)"
   ]
  },
  {
   "attachments": {},
   "cell_type": "markdown",
   "metadata": {},
   "source": [
    "## Test\n",
    "\n",
    "Run the trained agent (1 episode)."
   ]
  },
  {
   "cell_type": "code",
   "execution_count": 10,
   "metadata": {},
   "outputs": [
    {
     "name": "stderr",
     "output_type": "stream",
     "text": [
      "/home/daiyuxin/anaconda3/envs/cjh1/lib/python3.7/site-packages/gymnasium/wrappers/record_video.py:88: UserWarning: \u001b[33mWARN: Overwriting existing videos at /data1/cjh1/rainbow-is-all-you-need-MindSpore/videos/dqn folder (try specifying a different `video_folder` for the `RecordVideo` wrapper if this is not desired)\u001b[0m\n",
      "  f\"Overwriting existing videos at {self.video_folder} folder \"\n"
     ]
    },
    {
     "name": "stdout",
     "output_type": "stream",
     "text": [
      "Moviepy - Building video /data1/cjh1/rainbow-is-all-you-need-MindSpore/videos/dqn/rl-video-episode-0.mp4.\n",
      "Moviepy - Writing video /data1/cjh1/rainbow-is-all-you-need-MindSpore/videos/dqn/rl-video-episode-0.mp4\n",
      "\n"
     ]
    },
    {
     "name": "stderr",
     "output_type": "stream",
     "text": [
      "                                                               "
     ]
    },
    {
     "name": "stdout",
     "output_type": "stream",
     "text": [
      "Moviepy - Done !\n",
      "Moviepy - video ready /data1/cjh1/rainbow-is-all-you-need-MindSpore/videos/dqn/rl-video-episode-0.mp4\n",
      "score:  200.0\n"
     ]
    },
    {
     "name": "stderr",
     "output_type": "stream",
     "text": [
      "\r"
     ]
    }
   ],
   "source": [
    "video_folder = \"videos/dqn\"\n",
    "agent.test(video_folder=video_folder)"
   ]
  },
  {
   "attachments": {},
   "cell_type": "markdown",
   "metadata": {},
   "source": [
    "## Render"
   ]
  },
  {
   "cell_type": "code",
   "execution_count": 12,
   "metadata": {},
   "outputs": [
    {
     "data": {
      "text/html": [
       "\n",
       "        <video width=\"320\" height=\"240\" alt=\"test\" controls>\n",
       "        <source src=\"data:video/mp4;base64,AAAAIGZ0eXBpc29tAAACAGlzb21pc28yYXZjMW1wNDEAAAAIZnJlZQAAImZtZGF0AAACrwYF//+r3EXpvebZSLeWLNgg2SPu73gyNjQgLSBjb3JlIDE1OSByMjk5MSAxNzcxYjU1IC0gSC4yNjQvTVBFRy00IEFWQyBjb2RlYyAtIENvcHlsZWZ0IDIwMDMtMjAxOSAtIGh0dHA6Ly93d3cudmlkZW9sYW4ub3JnL3gyNjQuaHRtbCAtIG9wdGlvbnM6IGNhYmFjPTEgcmVmPTMgZGVibG9jaz0xOjA6MCBhbmFseXNlPTB4MzoweDExMyBtZT1oZXggc3VibWU9NyBwc3k9MSBwc3lfcmQ9MS4wMDowLjAwIG1peGVkX3JlZj0xIG1lX3JhbmdlPTE2IGNocm9tYV9tZT0xIHRyZWxsaXM9MSA4eDhkY3Q9MSBjcW09MCBkZWFkem9uZT0yMSwxMSBmYXN0X3Bza2lwPTEgY2hyb21hX3FwX29mZnNldD0tMiB0aHJlYWRzPTEyIGxvb2thaGVhZF90aHJlYWRzPTIgc2xpY2VkX3RocmVhZHM9MCBucj0wIGRlY2ltYXRlPTEgaW50ZXJsYWNlZD0wIGJsdXJheV9jb21wYXQ9MCBjb25zdHJhaW5lZF9pbnRyYT0wIGJmcmFtZXM9MyBiX3B5cmFtaWQ9MiBiX2FkYXB0PTEgYl9iaWFzPTAgZGlyZWN0PTEgd2VpZ2h0Yj0xIG9wZW5fZ29wPTAgd2VpZ2h0cD0yIGtleWludD0yNTAga2V5aW50X21pbj0yNSBzY2VuZWN1dD00MCBpbnRyYV9yZWZyZXNoPTAgcmNfbG9va2FoZWFkPTQwIHJjPWNyZiBtYnRyZWU9MSBjcmY9MjMuMCBxY29tcD0wLjYwIHFwbWluPTAgcXBtYXg9NjkgcXBzdGVwPTQgaXBfcmF0aW89MS40MCBhcT0xOjEuMDAAgAAAAb9liIQAJ//+9bF8CmrJ84oM6DIu4Zckya62IuJtAMAVHyAAAAMAADtlv8XMgJRqXwAAAwBCQA1AfQZQeYiYqxUCV4g4GauIAY/XxyCCopWBjW+L1LxunxasG5TNqTeoMch8pz9qt6EpSNWAHrJxRgvtKeei2JbO2Rd4pSuG4Nc2XABPE+XfWTm4Y3oBeQEFmGi9vr/HxfCaC1qNn8yGOcVcB77UAV3spfTlPCi5535NDwJtqcHgDCvr1aRYqBXI8/leiHsBvhztlB2z/lne/YOS+lXgCTt+CqviKj8NliEM7lVygEqj1dKjAQHrh7xxixbLGox6hNu6AJ5JJOoq4GK3nNuxv+agUtOWSlUu35+NL/duiXbw3/kGhPc8/a6yiTvImy6SfdjSA8XLWFjnAoreeK3/+vlcqJQv6CICihIao4+yIULxSvdgdyaUHlUI/e4BiYaRzKYyf9W6yJgkOz6F6C6NpDccCQpnSrnYFvi6PB4AAkLGfcp7Bz/467XQxUg9NUPDhAHgc/zEfR1pzfGGsgasemNmvVJBB41cSWmSW8F6leuLsinwy3AABMwAAZcWtsAAAAMAAAMAAAMAAXsAAABKQZokbEL//oywAAAKF7D76Oku/jFUstfIGQC4Ie5NFTGQBs6ojiNVlnntFECsNCtNvGmaMNjRccO7NLsvb8/HNPQkmAI3/yxyx2IAAAAjQZ5CeIR/AAADAzlzoXHKxzAP+vq28FrgOyo8GPa7xs4q+jEAAAATAZ5hdEf/AAADAENYcg0W0E0xsAAAAB0BnmNqR/8AAAUfNNWxkwvP68AVDV/NmQ5AOjtKgQAAADZBmmhJqEFomUwIV//+OEAAACWcQ3sXWbtsRIgTnyRtICs7cApAE+t/wTLzge6VU95Uk21t8tkAAAAgQZ6GRREsI/8AAAMDJTHNmF058YvfmcvODCmSDouKdn0AAAAQAZ6ldEf/AAADAAI66pS2UQAAABwBnqdqR/8AAAT7NNXe/wTHe5gHYB7mq12cXHJAAAAAa0GarEmoQWyZTAhP//3xAAADAFzYmo4WMTI32I6vimrR3/mQJKsAGRRmbWgvrDL8+PFL0qIRaUq3ByJVvATKuZDnZfl4AGZfcoyD3Sc/dVgQueKugJ3CL26n286iCIXC/8M/cFqdu/oHpGRgAAAAL0GeykUVLCP/AAAIKj/qjOgBuWjSbC6+qtnoT46oiiCJWrlT+IY3nhNj6g8k1rrFAAAAGwGe6XRH/wAABRxSabJnKvYsAk4FZ3jEjkJvgwAAABoBnutqR/8AAAUfMJdfzTbzQkRMo61h7cc5IAAAAGRBmvBJqEFsmUwIX//+jLAAAEYC+t4DSDWpg3KhfGHSG3P60ySG6fWk7z8fzg0oITE5iirwBXHmokjDgJ6wFdWiwP00I9D3b9FYvo894Huy5szDjn875JKdn6booUIxZ7bPWM0XAAAAJEGfDkUVLCP/AAAWvEPNtxXN7MUK6UJGVZUSMYQAKTgPj/s/gwAAABkBny10R/8AAAT4XOE6AlBSwPxFV2IC2mDBAAAAHQGfL2pH/wAAI78EJxLJaZq4XbApiqbaLg+VM/gwAAAAGUGbNEmoQWyZTAhX//44QAAABWTaPjJgJ2AAAAAlQZ9SRRUsI/8AAAMDL+5BBHt/SA9WGpNXDuQRKXHm2CJMPivBgQAAABoBn3F0R/8AAAMB5rGwbjAL6EGuBJ1ZisQfBgAAABsBn3NqR/8AAAUfNNWxkwvP68AVDV/NkEWw7cAAAAAZQZt4SahBbJlMCE///fEAAAMAABnfaufuJwAAAB9Bn5ZFFSwj/wAAAwM5u+yWFk2BkbdhYR0Ovb6lJs2zAAAAGgGftXRH/wAAAwHmsbCUqUTuDbgSXwY9FvwZAAAAGwGft2pH/wAABR801bGTC8/rwBUNX82QRbDtwQAAAD1Bm7xJqEFsmUwIX//+jLAAAAoH2Z7qQ0bDdnOZOwUbmPFzLF4q1WlNAEgB6ZQy8tAs+Y7DTYi2zRTfqU2sAAAAHEGf2kUVLCP/AAADAzhTCrDhfnRLYC6n65oxp28AAAAbAZ/5dEf/AAADAeUrxGQUwk2CtsaE/OQO1tmAAAAADgGf+2pH/wAAAwAAAwGpAAAAF0Gb4EmoQWyZTAhf//6MsAAAAwAAAwNDAAAAIEGeHkUVLCP/AAADAzdw+fgkUcnAWpCb7V5CVfSB7aW3AAAAGgGePXRH/wAABR/Qwc62jcNX2BFaCJxmV2zAAAAAGwGeP2pH/wAAAwHmf9VJfxNx1fZ3GIeGpyY7cQAAAEBBmiRJqEFsmUwIV//+OEAAACWcQ3sXVDEYAOKpinOrH6QP60vzW7s98rhzr+A3xexz0lUB8VhPcTLj90r2qDmMAAAAH0GeQkUVLCP/AAADAyUxzaO3lnEjvUs51NopW0dMQEEAAAAOAZ5hdEf/AAADAAADAakAAAAbAZ5jakf/AAAE+zTV3tuIaoJIG+jw6CRwkZOTAAAAJUGaaEmoQWyZTAhP//3xAAADAA178rPqD9YAO/QeoVY95gehVUEAAAAgQZ6GRRUsI/8AAAMDJbvsmIN8fM5jGhiIrSThnfw4iAkAAAAeAZ6ldEf/AAADAduyJbT6qyQVac0+Z8e6OYtvHOSBAAAAGwGep2pH/wAABPs01d7biGqCSBvo8OgkcJGTkgAAAC5BmqxJqEFsmUwIV//+OEAAAQz64J+vAV2WKXogJovfbawn2e7kdQvlSpP8gPmAAAAALEGeykUVLCP/AAAWtSs3a2EpfdtyWAA4p+juYCpF098xSEf29iFrPYkIz2SZAAAAHgGe6XRH/wAAI8MXaKmlU9T+xSFPYQyOTvGxivDZyQAAABsBnutqR/8AAAMAunZ71afugul1yw7dOIJ8HwYAAAA0QZrwSahBbJlMCE///fEAAAMAI5fI4m5NfYpQefKL1oVJFo5eANcSrp3blBWHo0s4plbFUQAAACJBnw5FFSwj/wAAAwE15Oa8L8PmWaNTzfaWYVIbo9OyN2ZfAAAAHgGfLXRH/wAABR6HAs7R6n5i+S2xi6J6Qv6XVsfgwQAAABsBny9qR/8AAAMB5n/VSX8TcdX2dxiHhqcmO3AAAAApQZs0SahBbJlMCF///oywAAADA7qMhpF4GIFpenVleO49/hVGDKOy+PAAAAAcQZ9SRRUsI/8AAAMBNYFDaZl8wcVv6dC4BlFtwQAAABsBn3F0R/8AAAUehxHfiD8kbCNvFzuP24FF4MAAAAAOAZ9zakf/AAADAAADAakAAAAXQZt4SahBbJlMCF///oywAAADAAADA0MAAAAQQZ+WRRUsI/8AAAMAAAMBBwAAAA4Bn7V0R/8AAAMAAAMBqQAAAA4Bn7dqR/8AAAMAAAMBqQAAABZBm7xJqEFsmUwIV//+OEAAAAMAAAyoAAAAJUGf2kUVLCP/AAADAyOufNDyZMBGI1VWnfMrIghz1rqJ1sOuVt0AAAAaAZ/5dEf/AAAE+9DBzz2mSAtw8gVqdqVVkmAAAAAdAZ/7akf/AAADAduAEvjgPbV1Hw/jBSKW8vzXOSEAAAA+QZvgSahBbJlMCE///fEAAAMAIqa/AT1bBXxTTgNnAEe0AybJGQhFeeReJcN94+oy+ehyxYJqCN490kNVw+cAAAAeQZ4eRRUsI/8AAAMBLeTm0dvLOJIijWpYuYmPfkkwAAAAGwGePXRH/wAAI8C438FekO1X5DB9S3PYIlOOmAAAACMBnj9qR/8AACOuXjOBeUHOyZWJPTFOlMqdXs5qLnq11Y4rbwAAACpBmiRJqEFsmUwIX//+jLAAAEYC9vJ6BJ1WDM/FgHeAvNqbFAA0uvcICggAAAAmQZ5CRRUsI/8AABa1KzdrYSl92PJNmEOPBQ49NeHSurtU0xPEduEAAAAfAZ5hdEf/AAAjq/hbeBajJkFwzPCbHGioChD9mWhyQAAAABsBnmNqR/8AAAMAumYSz3Zs761rzRuuwNa1tmEAAAAWQZpoSahBbJlMCFf//jhAAAADAAAMqQAAABBBnoZFFSwj/wAAAwAAAwEHAAAADgGepXRH/wAAAwAAAwGpAAAADgGep2pH/wAAAwAAAwGpAAAAT0GarEmoQWyZTAhP//3xAAADACKw/jkgyMmx/U6Nq4wACII3HpPAiNJl+7ZS7Yv7XmLe0Ptf1YzWg9JXvCFE57HDJCa/lt9uHylc+jxa47AAAAAgQZ7KRRUsI/8AAAMBLeULb01GRLsEcFQpvNCm00p9YoEAAAAOAZ7pdEf/AAADAAADAakAAAAcAZ7rakf/AAADAduAEvjgabitdUKXCTtmVuDkgAAAACtBmvBJqEFsmUwIT//98QAAAwANfKGkAOVW0sYEpfNxQ0RcM5W82zDSNUbhAAAAHUGfDkUVLCP/AAADAS4qBQuRLSGAORHd4GjmFSAhAAAAGwGfLXRH/wAAAwHainhOgJGJKHNFeXq6gubEBQAAAB0Bny9qR/8AACOuXjOBeUHOyZWJUOgVClgobknhjQAAAD9BmzRJqEFsmUwIT//98QAAAwKfBR1D1BEVp3G7qJAQa1tRXyX/syUAbuGrBPOfpErpMOVZ2MV7pZf6DLjZpEwAAAArQZ9SRRUsI/8AABa8Q823FcxVl6V5d7lP2CVACW0lxdXkuGB3he2hqnltwQAAACEBn3F0R/8AACO4r9xVe6qslb9PGfM4lOUL8hfDC2Cu2YAAAAAdAZ9zakf/AAAjvwQnEslpmrhWUx8qO34vrY0EkmAAAAA6QZt4SahBbJlMCF///oywAAAKF7D76Oku/VV1GcwA3Xr+MAwA7aLV3Vt04JSJ/VTxlH0n02fcuFxv3QAAACFBn5ZFFSwj/wAAAwM4UwqIIF0nvYjqgK7FnJk/LkSzwYAAAAAbAZ+1dEf/AAADAeaxsKrXSJOOHt7Ha8hUEvBhAAAAEgGft2pH/wAAAwC6Zpq2NdghYQAAABxBm7xJqEFsmUwIV//+OEAAAA43no8kST9MQd+AAAAAFkGf2kUVLCP/AAADAS2BlwpUkrD5wQsAAAAUAZ/5dEf/AAADAdqKeFDz50R8b0AAAAASAZ/7akf/AAADALpmmrY12CFhAAAATUGb4EmoQWyZTAhP//3xAAADACKZs0FCSgALZs3seSK0ivX0P+l+n9DXksrUV0jJHVgKTFTZi6pekC/Ond8RURU2uLepcD28H0q9a1KvAAAAH0GeHkUVLCP/AAADAS3lC4UdwioYm3tALBRJ3RkCWzAAAAASAZ49dEf/AAADALoLbzJahGLAAAAAHAGeP2pH/wAAAwHbgBL44Gm4rXVClwk7Zlbg5IEAAAA1QZokSahBbJlMCF///oywAABGAvreA0g1fz0VytS4DbqvjHlBV+OF5GQwaq6YJvQgbEtmDGgAAAAqQZ5CRRUsI/8AABa1KzdrYSkhaDDsh1sGxy6HIS5U434NRiK7WufO+tuBAAAAHgGeYXRH/wAAI8MXaKmlL/XwTLcemt5ZUGGqJO4pAQAAABsBnmNqR/8AAAMB5n/VbGTC9A1sMZCzQd37tmEAAAAXQZpoSahBbJlMCF///oywAAADAAADA0MAAAAQQZ6GRRUsI/8AAAMAAAMBBwAAAA4BnqV0R/8AAAMAAAMBqQAAAA4BnqdqR/8AAAMAAAMBqQAAABZBmqxJqEFsmUwIV//+OEAAAAMAAAyoAAAAEEGeykUVLCP/AAADAAADAQcAAAAOAZ7pdEf/AAADAAADAakAAAAOAZ7rakf/AAADAAADAakAAAAXQZrwSahBbJlMCE///fEAAAMAAAMAHpEAAAAQQZ8ORRUsI/8AAAMAAAMBBwAAAA4Bny10R/8AAAMAAAMBqQAAAA4Bny9qR/8AAAMAAAMBqQAAAEhBmzRJqEFsmUwIV//+OEAAAQz63flXgK4b9hvZ1ED3m3DDffenqSHMynlK8ATvmzYMaBgd8Z43M3leAg7cAE4ybALxmGWSnHAAAAAqQZ9SRRUsI/8AABa8Q823Fcr1zuSdCQ3nGTCrkUorez8GXRi85ErvHcWBAAAAGgGfcXRH/wAABPvQwhhtcR6bnr15LR5mlhICAAAAHwGfc2pH/wAAI78EJxLJaZqW8HclBE1CpTbKOP9RpAQAAAAZQZt4SahBbJlMCE///fEAAAMADNypZ4AxYQAAACdBn5ZFFSwj/wAAAwMv7kEEeFVk1F78Al9ztFvAGbXKVpf/GgZtp4MAAAAcAZ+1dEf/AAADAeaxsJIjmOV9ajd5PoU3nKDbZwAAABsBn7dqR/8AAAUfNNWxkwvP68AVDV/NkEWw7cEAAABBQZu8SahBbJlMCFf//jhAAAAmp+xJoYRhC+DNm+E0jDgBiKkO7xGyTrXymQDIaW8X3aSwY0Fh3dqviZMdf6l84k4AAAAcQZ/aRRUsI/8AAAMDOFMKsOF+dEtgLqfrmjGnbwAAABoBn/l0R/8AAAMB5rGwlKlE7g24El8GPRb8GAAAACoBn/tqR/8AAAUgge8Xqh73cX6sUBCRgBHBq+ywbY3BrFIfyrZq8UDhDBkAAABIQZvgSahBbJlMCE///fEAAAMAIrP99aOh4AiYUwMc1VnuEeY++R5RQNn1Z/lgxHwMaGK3zQYf92P2m6iSLMgfrjjQ6fjXjzbBAAAAHkGeHkUVLCP/AAADAS3lC29NRkS7BHBPVLXzCvv8KwAAAA4Bnj10R/8AAAMAAAMBqQAAABwBnj9qR/8AAAMB24AS+OBpuK11QpcJO2ZTWq59AAAAL0GaJEmoQWyZTAhf//6MsAAARnpvQiHDEuZ3VJxDLhApZ6ZzPwM5yreEV6bln5OwAAAAOUGeQkUVLCP/AAAWtSsw13ohPOaxmoBgUjS3tcbNj0+lUmP+6rmT9QIMRbglprB66u6tU0gPPvLCsQAAAB8BnmF0R/8AACPDF2ippS/19zLbF2hZIAyMmBcwzCB3AAAAHQGeY2pH/wAADYSdFtg6T/T7FH+tBC2vJX9qtXPhAAAAFkGaaEmoQWyZTAhX//44QAAAAwAADKkAAAASQZ6GRRUsI/8AAAMAANNu/JLxAAAAEAGepXRH/wAAAwABUBb+PYEAAAAQAZ6nakf/AAADAAFQzUMXgAAAABdBmqxJqEFsmUwIT//98QAAAwAAAwAekAAAABJBnspFFSwj/wAAAwAA0278kvEAAAAQAZ7pdEf/AAADAAFQFv49gAAAABABnutqR/8AAAMAAVDNQxeAAAAAP0Ga8EmoQWyZTAhX//44QAABBPrygA1Vhv9slRUaRnmHnuFVnl0KYtLPa20Ubu4sjVpHV7IWbLiyOLyh/BMfMQAAAD5Bnw5FFSwj/wAAFixObKgkdXikKAwA3LRXKoUtuPPKmKBkDNMzx4jFi0Q+V4s9wRj9jMsM6giFfqPEG2NPgQAAABsBny10R/8AAAT70MHPGwn4pyh3Fna4+z19nCsAAAAcAZ8vakf/AAAivxrOe94KmtLzZwJ8BWLShvOisAAAABlBmzRJqEFsmUwIT//98QAAAwANK930RgE7AAAAIUGfUkUVLCP/AAADAyV3BI0wa6ZoF0V+r3whqc5J7P1T4QAAAB0Bn3F0R/8AAAMB27Gflpxe0VjccSQiutcAutdhWAAAABoBn3NqR/8AAAT7NNWxrLAqlK9qnHnZfFDqfAAAAEBBm3hJqEFsmUwIX//+jLAAAAnCOA0mhVi+TkWTj9WAJTinuSA3E70B+RuYojyU2tbE/qS+s75hIWYvU8PBnrh3AAAAHEGflkUVLCP/AAADAyRTCrFZyA+LPCjribOTCsAAAAAdAZ+1dEf/AAADAduxsOQNerv3mxUCJHa+d9f5c+EAAAAOAZ+3akf/AAADAAADAakAAABYQZu8SahBbJlMCFf//jhAAAAls9cgAQT+Bs9UDrqfklTjb/d1fg6aar2MJfjiyIpLuzYMa3Pas0v4do/Pp1Hg8yaW2GjeWUvX85SJCEcLSeOJR1HzFXFj4AAAAB5Bn9pFFSwj/wAAAwMlMc2YVI29cLPXO4V/0nQ4WYsAAAAOAZ/5dEf/AAADAAADAakAAAAbAZ/7akf/AAAE+zTVsZMMAwHmeAo4gpXhYcYtAAAAGUGb4EmoQWyZTAj//IQAAAMAT/jHrpBATcEAAAAQQZ4eRRUsI/8AAAMAAAMBBwAAAA4Bnj10R/8AAAMAAAMBqQAAAA4Bnj9qR/8AAAMAAAMBqQAAADhBmiFJqEFsmUwIX//+jLAAAEQC+t4BemP53Ou9zffYEDRhzAavfZwONhzX3xnHT75ZGGEvR8CvgAAAADZBmkVJ4QpSZTAhf/6MsAAACc7LT4EUoAGQYB5XGAeiAOJ1qq6SY3ntkIoWpwLnNKJKzXeMkDEAAAAvQZ5jRTRMI/8AAAgxLQj6rzr/JCSPzZAAtbDTVRPrzyjkRLMAbxPdreb2Uq4wxYAAAAAbAZ6CdEf/AAADAdqKHmSx9rxZRR341jvxPHb1AAAAHgGehGpH/wAABOoRx+YlnK8ij9ucbarBrUG9UIBjewAAADVBmolJqEFomUwIV//+OEAAACXbGL4ENTwRssXnQasKguEjDFBAz1bjnx3KTZ8llBgn1HgZ8wAAABFBnqdFESwj/wAACDFPyAAd0QAAAA4BnsZ0R/8AAAMAAAMBqQAAACkBnshqR/8AAAMAs2cR/chr981wyovXzycjLoAIEix7ix6EkIlneFOWLAAAAGlBms1JqEFsmUwIT//98QAAAwKNBXmQEzZKVZ4wb4FEANbpirJa6XMjpMIJgTS3ENc+qfgQ1pC/76KwUoXohQRJFlzf8a+T+cUYdtp0pJGwtoMuq85Kc8y4SMhGvsHanHWUkBJ7odhF9sEAAAArQZ7rRRUsI/8AABYlUii8HahRUfQBc7e5Psy3Hl58WDolkiddhowqYbrT4AAAAB4Bnwp0R/8AACLDOWeZ5P6WXCB1IxtreNQASkPLqJ8AAAAaAZ8Makf/AAAE+nDnE5t+Czge4yfR+AjsSTEAAABkQZsRSahBbJlMCE///fEAAAMA8pd6AA4y0rgUQA16uq/AVGsFMY+sJNLgEFt/lEN5sJViWj696jEcmoc0rz9+OUTZGjhIumAxRawqdKS9zjqqcU5pefygN+c8+WG4AygUtCZafQAAACVBny9FFSwj/wAACCwKHrrBaqAGzuOTVwkLKB2RfAD6Xh/X5k5JAAAAHAGfTnRH/wAADS4S84o5v6K0088dXh4qlXg3kmAAAAAQAZ9Qakf/AAADAEGPjigwIAAAADtBm1VJqEFsmUwIT//98QAAAwKNvg0ju4vSrHeYXBvd2xs5SuVdbkDHVmU3M/+gv0lJXcTEFSUWgPsLAwAAACxBn3NFFSwj/wAAFixObG5j7Ll8XyvmPEIAg4FHiCkUuj8CNiSVQLHMCNrflAAAABwBn5J0R/8AAAT4W3mSfGjjvVc5dX4kJknH3obAAAAAFQGflGpH/wAAIr8aznveCaGMYsVRbQAAAEFBm5lJqEFsmUwIT//98QAAAwBc98Gkd37zyR4AChmh2kmNhzqra0WG0b6B7wX6zeYVMxCDljf+VsFsF+t7mAIy9wAAAB5Bn7dFFSwj/wAAAwMlMc2YWwlh7U3xoRya8L9Pb0EAAAAkAZ/WdEf/AAADAAo8cdlv70mYHVrOACFYZ3UIk+huakWi0K4tAAAAGgGf2GpH/wAABPk+YOJnHIY6jp2h8hJh6n8oAAAAQUGb3UmoQWyZTAhP//3xAAADAo0FNOdRw0ANxrQMSAomc2yyuTqaBkdPkW4fvbqMxUL/n2ys63RsH52O1LsWpgN7AAAAJ0Gf+0UVLCP/AAAWLE5swthFILt013FKc+cXRV/wPPuchB1dQ4KyoAAAABABnhp0R/8AAAMAA58Ue4WBAAAAKwGeHGpH/wAAIr8ZJdiKquddCMcWUp09a8uLMQQaICM8a7Dt6HL2bg53lYEAAABnQZoBSahBbJlMCE///fEAAAMCjbq12w0ucR0tewfwCTA+Jl683BWvEgAYlLcHoed1x489rX/TmigHZJqvSYnB76VSimDEcb/Z9JjYIYSYCzkC4EIrcjL4b26TeFGf+CmmVCLhpvfAwAAAAFpBnj9FFSwj/wAAFixDzGf1V3k4B1yAIyC6DI4quyq5nEA3ISpjALCU0Ut2ZfgaPfOI2wr2AsPsx37UM26Pc2cqKg5Iip25Ljn9W44IBciunavAE99TbbPEsxYAAAAxAZ5edEf/AAAE+Ft5LfqdW88pd9BTWkDDylJezuqNOp96B71L9MCjA5ryvVQMrCbt6QAAAC4BnkBqR/8AACKxzAlv5zIovNGJM0ZSD8QLP5Nt0Y6iHhKZzsZaNxFQdDWWx+9AAAAAOkGaRUmoQWyZTAhP//3xAAADAo0FHTZLD18oXB0/sRJFvyUKLnPOqIyW6SgBuE1w9ChHaLtBomAE2tsAAAAwQZ5jRRUsI/8AABYsQ823FiQmBSHWWD0obgAEQ+9+UlesHqizufRxK9liBlb5NwYMAAAAGQGegnRH/wAABPhSa5twWHOdEEJzpBNyOk8AAAAaAZ6Eakf/AAAivwQnEslpmrhWa0hZGXOcgYEAAAAxQZqJSahBbJlMCP/8hAAAAwI72m21dUgWmRJGxv6iiNWd+SwxkNifl1OqqBvPFsFp0QAAAB9BnqdFFSwj/wAAAwMkTWdZKlVUXy9M7SaaGn/e8HixAAAAGwGexnRH/wAABPhSabCFOXkUgTTU0ZaZgi5NgAAAABIBnshqR/8AAAMB23/pGhXgS8AAAAyLbW9vdgAAAGxtdmhkAAAAAAAAAAAAAAAAAAAD6AAAD8gAAQAAAQAAAAAAAAAAAAAAAAEAAAAAAAAAAAAAAAAAAAABAAAAAAAAAAAAAAAAAABAAAAAAAAAAAAAAAAAAAAAAAAAAAAAAAAAAAAAAAAAAgAAC7V0cmFrAAAAXHRraGQAAAADAAAAAAAAAAAAAAABAAAAAAAAD8gAAAAAAAAAAAAAAAAAAAAAAAEAAAAAAAAAAAAAAAAAAAABAAAAAAAAAAAAAAAAAABAAAAAAlgAAAGQAAAAAAAkZWR0cwAAABxlbHN0AAAAAAAAAAEAAA/IAAACAAABAAAAAAstbWRpYQAAACBtZGhkAAAAAAAAAAAAAAAAAAAyAAAAygBVxAAAAAAALWhkbHIAAAAAAAAAAHZpZGUAAAAAAAAAAAAAAABWaWRlb0hhbmRsZXIAAAAK2G1pbmYAAAAUdm1oZAAAAAEAAAAAAAAAAAAAACRkaW5mAAAAHGRyZWYAAAAAAAAAAQAAAAx1cmwgAAAAAQAACphzdGJsAAAAmHN0c2QAAAAAAAAAAQAAAIhhdmMxAAAAAAAAAAEAAAAAAAAAAAAAAAAAAAAAAlgBkABIAAAASAAAAAAAAAABAAAAAAAAAAAAAAAAAAAAAAAAAAAAAAAAAAAAAAAAAAAAGP//AAAAMmF2Y0MBZAAf/+EAGWdkAB+s2UCYM+XhAAADAAEAAAMAZA8YMZYBAAZo6+PLIsAAAAAYc3R0cwAAAAAAAAABAAAAygAAAQAAAAAUc3RzcwAAAAAAAAABAAAAAQAABmBjdHRzAAAAAAAAAMoAAAABAAACAAAAAAEAAAUAAAAAAQAAAgAAAAABAAAAAAAAAAEAAAEAAAAAAQAABQAAAAABAAACAAAAAAEAAAAAAAAAAQAAAQAAAAABAAAFAAAAAAEAAAIAAAAAAQAAAAAAAAABAAABAAAAAAEAAAUAAAAAAQAAAgAAAAABAAAAAAAAAAEAAAEAAAAAAQAABQAAAAABAAACAAAAAAEAAAAAAAAAAQAAAQAAAAABAAAFAAAAAAEAAAIAAAAAAQAAAAAAAAABAAABAAAAAAEAAAUAAAAAAQAAAgAAAAABAAAAAAAAAAEAAAEAAAAAAQAABQAAAAABAAACAAAAAAEAAAAAAAAAAQAAAQAAAAABAAAFAAAAAAEAAAIAAAAAAQAAAAAAAAABAAABAAAAAAEAAAUAAAAAAQAAAgAAAAABAAAAAAAAAAEAAAEAAAAAAQAABQAAAAABAAACAAAAAAEAAAAAAAAAAQAAAQAAAAABAAAFAAAAAAEAAAIAAAAAAQAAAAAAAAABAAABAAAAAAEAAAUAAAAAAQAAAgAAAAABAAAAAAAAAAEAAAEAAAAAAQAABQAAAAABAAACAAAAAAEAAAAAAAAAAQAAAQAAAAABAAAFAAAAAAEAAAIAAAAAAQAAAAAAAAABAAABAAAAAAEAAAUAAAAAAQAAAgAAAAABAAAAAAAAAAEAAAEAAAAAAQAABQAAAAABAAACAAAAAAEAAAAAAAAAAQAAAQAAAAABAAAFAAAAAAEAAAIAAAAAAQAAAAAAAAABAAABAAAAAAEAAAUAAAAAAQAAAgAAAAABAAAAAAAAAAEAAAEAAAAAAQAABQAAAAABAAACAAAAAAEAAAAAAAAAAQAAAQAAAAABAAAFAAAAAAEAAAIAAAAAAQAAAAAAAAABAAABAAAAAAEAAAUAAAAAAQAAAgAAAAABAAAAAAAAAAEAAAEAAAAAAQAABQAAAAABAAACAAAAAAEAAAAAAAAAAQAAAQAAAAABAAAFAAAAAAEAAAIAAAAAAQAAAAAAAAABAAABAAAAAAEAAAUAAAAAAQAAAgAAAAABAAAAAAAAAAEAAAEAAAAAAQAABQAAAAABAAACAAAAAAEAAAAAAAAAAQAAAQAAAAABAAAFAAAAAAEAAAIAAAAAAQAAAAAAAAABAAABAAAAAAEAAAUAAAAAAQAAAgAAAAABAAAAAAAAAAEAAAEAAAAAAQAABQAAAAABAAACAAAAAAEAAAAAAAAAAQAAAQAAAAABAAAFAAAAAAEAAAIAAAAAAQAAAAAAAAABAAABAAAAAAEAAAUAAAAAAQAAAgAAAAABAAAAAAAAAAEAAAEAAAAAAQAABQAAAAABAAACAAAAAAEAAAAAAAAAAQAAAQAAAAABAAAFAAAAAAEAAAIAAAAAAQAAAAAAAAABAAABAAAAAAEAAAUAAAAAAQAAAgAAAAABAAAAAAAAAAEAAAEAAAAAAQAABQAAAAABAAACAAAAAAEAAAAAAAAAAQAAAQAAAAABAAAFAAAAAAEAAAIAAAAAAQAAAAAAAAABAAABAAAAAAEAAAUAAAAAAQAAAgAAAAABAAAAAAAAAAEAAAEAAAAAAQAABQAAAAABAAACAAAAAAEAAAAAAAAAAQAAAQAAAAABAAAFAAAAAAEAAAIAAAAAAQAAAAAAAAABAAABAAAAAAEAAAUAAAAAAQAAAgAAAAABAAAAAAAAAAEAAAEAAAAAAQAAAgAAAAABAAAFAAAAAAEAAAIAAAAAAQAAAAAAAAABAAABAAAAAAEAAAUAAAAAAQAAAgAAAAABAAAAAAAAAAEAAAEAAAAAAQAABQAAAAABAAACAAAAAAEAAAAAAAAAAQAAAQAAAAABAAAFAAAAAAEAAAIAAAAAAQAAAAAAAAABAAABAAAAAAEAAAUAAAAAAQAAAgAAAAABAAAAAAAAAAEAAAEAAAAAAQAABQAAAAABAAACAAAAAAEAAAAAAAAAAQAAAQAAAAABAAAFAAAAAAEAAAIAAAAAAQAAAAAAAAABAAABAAAAAAEAAAUAAAAAAQAAAgAAAAABAAAAAAAAAAEAAAEAAAAAAQAABQAAAAABAAACAAAAAAEAAAAAAAAAAQAAAQAAAAABAAAFAAAAAAEAAAIAAAAAAQAAAAAAAAABAAABAAAAABxzdHNjAAAAAAAAAAEAAAABAAAAygAAAAEAAAM8c3RzegAAAAAAAAAAAAAAygAABHYAAABOAAAAJwAAABcAAAAhAAAAOgAAACQAAAAUAAAAIAAAAG8AAAAzAAAAHwAAAB4AAABoAAAAKAAAAB0AAAAhAAAAHQAAACkAAAAeAAAAHwAAAB0AAAAjAAAAHgAAAB8AAABBAAAAIAAAAB8AAAASAAAAGwAAACQAAAAeAAAAHwAAAEQAAAAjAAAAEgAAAB8AAAApAAAAJAAAACIAAAAfAAAAMgAAADAAAAAiAAAAHwAAADgAAAAmAAAAIgAAAB8AAAAtAAAAIAAAAB8AAAASAAAAGwAAABQAAAASAAAAEgAAABoAAAApAAAAHgAAACEAAABCAAAAIgAAAB8AAAAnAAAALgAAACoAAAAjAAAAHwAAABoAAAAUAAAAEgAAABIAAABTAAAAJAAAABIAAAAgAAAALwAAACEAAAAfAAAAIQAAAEMAAAAvAAAAJQAAACEAAAA+AAAAJQAAAB8AAAAWAAAAIAAAABoAAAAYAAAAFgAAAFEAAAAjAAAAFgAAACAAAAA5AAAALgAAACIAAAAfAAAAGwAAABQAAAASAAAAEgAAABoAAAAUAAAAEgAAABIAAAAbAAAAFAAAABIAAAASAAAATAAAAC4AAAAeAAAAIwAAAB0AAAArAAAAIAAAAB8AAABFAAAAIAAAAB4AAAAuAAAATAAAACIAAAASAAAAIAAAADMAAAA9AAAAIwAAACEAAAAaAAAAFgAAABQAAAAUAAAAGwAAABYAAAAUAAAAFAAAAEMAAABCAAAAHwAAACAAAAAdAAAAJQAAACEAAAAeAAAARAAAACAAAAAhAAAAEgAAAFwAAAAiAAAAEgAAAB8AAAAdAAAAFAAAABIAAAASAAAAPAAAADoAAAAzAAAAHwAAACIAAAA5AAAAFQAAABIAAAAtAAAAbQAAAC8AAAAiAAAAHgAAAGgAAAApAAAAIAAAABQAAAA/AAAAMAAAACAAAAAZAAAARQAAACIAAAAoAAAAHgAAAEUAAAArAAAAFAAAAC8AAABrAAAAXgAAADUAAAAyAAAAPgAAADQAAAAdAAAAHgAAADUAAAAjAAAAHwAAABYAAAAUc3RjbwAAAAAAAAABAAAAMAAAAGJ1ZHRhAAAAWm1ldGEAAAAAAAAAIWhkbHIAAAAAAAAAAG1kaXJhcHBsAAAAAAAAAAAAAAAALWlsc3QAAAAlqXRvbwAAAB1kYXRhAAAAAQAAAABMYXZmNTguMjkuMTAw\" type=\"video/mp4\"/>\n",
       "        </video>\n",
       "        "
      ],
      "text/plain": [
       "<IPython.core.display.HTML object>"
      ]
     },
     "metadata": {},
     "output_type": "display_data"
    },
    {
     "name": "stdout",
     "output_type": "stream",
     "text": [
      "Played: videos/dqn/rl-video-episode-0.mp4\n"
     ]
    }
   ],
   "source": [
    "import base64\n",
    "import glob\n",
    "import io\n",
    "\n",
    "from IPython.display import HTML, display\n",
    "\n",
    "\n",
    "def ipython_show_video(path: str) -> None:\n",
    "    \"\"\"Show a video at `path` within IPython Notebook.\"\"\"\n",
    "    if not os.path.isfile(path):\n",
    "        raise NameError(\"Cannot access: {}\".format(path))\n",
    "\n",
    "    video = io.open(path, \"r+b\").read()\n",
    "    encoded = base64.b64encode(video)\n",
    "\n",
    "    display(HTML(\n",
    "        data=\"\"\"\n",
    "        <video width=\"320\" height=\"240\" alt=\"test\" controls>\n",
    "        <source src=\"data:video/mp4;base64,{0}\" type=\"video/mp4\"/>\n",
    "        </video>\n",
    "        \"\"\".format(encoded.decode(\"ascii\"))\n",
    "    ))\n",
    "\n",
    "\n",
    "def show_latest_video(video_folder: str) -> str:\n",
    "    \"\"\"Show the most recently recorded video from video folder.\"\"\"\n",
    "    list_of_files = glob.glob(os.path.join(video_folder, \"*.mp4\"))\n",
    "    latest_file = max(list_of_files, key=os.path.getctime)\n",
    "    ipython_show_video(latest_file)\n",
    "    return latest_file\n",
    "\n",
    "\n",
    "latest_file = show_latest_video(video_folder=video_folder)\n",
    "print(\"Played:\", latest_file)"
   ]
  }
 ],
 "metadata": {
  "kernelspec": {
   "display_name": "cjh1",
   "language": "python",
   "name": "python3"
  },
  "language_info": {
   "codemirror_mode": {
    "name": "ipython",
    "version": 3
   },
   "file_extension": ".py",
   "mimetype": "text/x-python",
   "name": "python",
   "nbconvert_exporter": "python",
   "pygments_lexer": "ipython3",
   "version": "3.7.13"
  }
 },
 "nbformat": 4,
 "nbformat_minor": 1
}
