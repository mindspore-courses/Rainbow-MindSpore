{
 "cells": [
  {
   "attachments": {},
   "cell_type": "markdown",
   "metadata": {},
   "source": [
    "## Configurations for Colab"
   ]
  },
  {
   "cell_type": "code",
   "execution_count": 1,
   "metadata": {},
   "outputs": [
    {
     "data": {
      "text/plain": [
       "<pyvirtualdisplay.display.Display at 0x7f1c74ec5690>"
      ]
     },
     "execution_count": 1,
     "metadata": {},
     "output_type": "execute_result"
    }
   ],
   "source": [
    "\"\"\"\n",
    "    在Ubuntu服务器上设置虚拟显示\n",
    "    sudo apt update\n",
    "    sudo apt install python-opengl ffmpeg xvfb\n",
    "    启动虚拟X服务器\n",
    "    Xvfb :1 -screen 0 1024x768x24 &\n",
    "    export DISPLAY=:1\n",
    "\"\"\"\n",
    "\n",
    "from pyvirtualdisplay import Display\n",
    "\n",
    "# Start virtual display\n",
    "dis = Display(visible=0, size=(400, 400))\n",
    "dis.start()"
   ]
  },
  {
   "attachments": {},
   "cell_type": "markdown",
   "metadata": {},
   "source": [
    "# 06. Categorical DQN\n",
    "\n",
    "[M. G. Bellemare et al., \"A Distributional Perspective on Reinforcement Learning.\" arXiv preprint arXiv:1707.06887, 2017.](https://arxiv.org/pdf/1707.06887.pdf)\n",
    "\n",
    "The authors argued the importance of learning the distribution of returns instead of the expected return, and they proposed to model such distributions with probability masses placed on a discrete support $z$, where $z$ is a vector with $N_{atoms} \\in \\mathbb{N}^+$ atoms, defined by $z_i = V_{min} + (i-1) \\frac{V_{max} - V_{min}}{N-1}$ for $i \\in \\{1, ..., N_{atoms}\\}$.\n",
    "\n",
    "The key insight is that return distributions satisfy a variant of Bellman’s equation. For a given state $S_t$ and action $A_t$, the distribution of the returns under the optimal policy $\\pi^{*}$ should match a target distribution defined by taking the distribution for the next state $S_{t+1}$ and action $a^{*}_{t+1} = \\pi^{*}(S_{t+1})$, contracting\n",
    "it towards zero according to the discount, and shifting it by the reward (or distribution of rewards, in the stochastic case). A distributional variant of Q-learning is then derived by first constructing a new support for the target distribution, and then minimizing the Kullbeck-Leibler divergence between the distribution $d_t$ and the target distribution\n",
    "\n",
    "$$\n",
    "d_t' = (R_{t+1} + \\gamma_{t+1} z, p_\\hat{{\\theta}} (S_{t+1}, \\hat{a}^{*}_{t+1})),\\\\\n",
    "D_{KL} (\\phi_z d_t' \\| d_t).\n",
    "$$\n",
    "\n",
    "Here $\\phi_z$ is a L2-projection of the target distribution onto the fixed support $z$, and $\\hat{a}^*_{t+1} = \\arg\\max_{a} q_{\\hat{\\theta}} (S_{t+1}, a)$ is the greedy action with respect to the mean action values $q_{\\hat{\\theta}} (S_{t+1}, a) = z^{T}p_{\\theta}(S_{t+1}, a)$ in state $S_{t+1}$."
   ]
  },
  {
   "cell_type": "code",
   "execution_count": 2,
   "metadata": {},
   "outputs": [
    {
     "name": "stderr",
     "output_type": "stream",
     "text": [
      "[WARNING] ME(2054119:139760280942400,MainProcess):2023-07-18-16:01:11.303.307 [mindspore/run_check/_check_version.py:102] MindSpore version 2.0.0.20230623 and cuda version 11.7.60 does not match, CUDA version [['10.1', '11.1', '11.6']] are supported by MindSpore officially. Please refer to the installation guide for version matching information: https://www.mindspore.cn/install.\n",
      "/home/daiyuxin/anaconda3/envs/cjh1/lib/python3.7/site-packages/mindnlp/utils/download.py:29: TqdmExperimentalWarning: Using `tqdm.autonotebook.tqdm` in notebook mode. Use `tqdm.tqdm` instead to force console mode (e.g. in jupyter console)\n",
      "  from tqdm.autonotebook import tqdm\n"
     ]
    }
   ],
   "source": [
    "import os\n",
    "from typing import Dict, List, Tuple\n",
    "\n",
    "import gymnasium as gym\n",
    "import matplotlib.pyplot as plt\n",
    "import numpy as np\n",
    "import mindspore\n",
    "from mindspore import nn, ops, Tensor\n",
    "from mindnlp.modules import Accumulator\n",
    "from IPython.display import clear_output"
   ]
  },
  {
   "attachments": {},
   "cell_type": "markdown",
   "metadata": {},
   "source": [
    "## Replay buffer\n",
    "\n",
    "Please see *01.dqn.ipynb* for detailed description."
   ]
  },
  {
   "cell_type": "code",
   "execution_count": 3,
   "metadata": {},
   "outputs": [],
   "source": [
    "class ReplayBuffer:\n",
    "    \"\"\"A simple numpy replay buffer.\"\"\"\n",
    "\n",
    "    def __init__(self, obs_dim: int, size: int, batch_size: int = 32):\n",
    "        self.obs_buf = np.zeros([size, obs_dim], dtype=np.float32)\n",
    "        self.next_obs_buf = np.zeros([size, obs_dim], dtype=np.float32)\n",
    "        self.acts_buf = np.zeros([size], dtype=np.float32)\n",
    "        self.rews_buf = np.zeros([size], dtype=np.float32)\n",
    "        self.done_buf = np.zeros(size, dtype=np.float32)\n",
    "        self.max_size, self.batch_size = size, batch_size\n",
    "        self.ptr, self.size, = 0, 0\n",
    "\n",
    "    def store(\n",
    "        self,\n",
    "        obs: np.ndarray,\n",
    "        act: np.ndarray,\n",
    "        rew: float,\n",
    "        next_obs: np.ndarray,\n",
    "        done: bool,\n",
    "    ):\n",
    "        self.obs_buf[self.ptr] = obs\n",
    "        self.next_obs_buf[self.ptr] = next_obs\n",
    "        self.acts_buf[self.ptr] = act\n",
    "        self.rews_buf[self.ptr] = rew\n",
    "        self.done_buf[self.ptr] = done\n",
    "        self.ptr = (self.ptr + 1) % self.max_size\n",
    "        self.size = min(self.size + 1, self.max_size)\n",
    "\n",
    "    def sample_batch(self) -> Dict[str, np.ndarray]:\n",
    "        idxs = np.random.choice(self.size, size=self.batch_size, replace=False)\n",
    "        return dict(obs=self.obs_buf[idxs],\n",
    "                    next_obs=self.next_obs_buf[idxs],\n",
    "                    acts=self.acts_buf[idxs],\n",
    "                    rews=self.rews_buf[idxs],\n",
    "                    done=self.done_buf[idxs])\n",
    "\n",
    "    def __len__(self) -> int:\n",
    "        return self.size"
   ]
  },
  {
   "attachments": {},
   "cell_type": "markdown",
   "metadata": {},
   "source": [
    "## Network\n",
    "\n",
    "The parametrized distribution can be represented by a neural network, as in DQN, but with atom_size x out_dim outputs. A softmax is applied independently for each action dimension of the output to ensure that the distribution for each action is appropriately normalized.\n",
    "\n",
    "To estimate q-values, we use inner product of each action's softmax distribution and support which is the set of atoms $\\{z_i = V_{min} + i\\Delta z: 0 \\le i < N\\}, \\Delta z = \\frac{V_{max} - V_{min}}{N-1}$.\n",
    "\n",
    "$$\n",
    "Q(s_t, a_t) = \\sum_i z_i p_i(s_t, a_t), \\\\\n",
    "\\text{where } p_i \\text{ is the probability of } z_i \\text{ (the output of softmax)}.\n",
    "$$"
   ]
  },
  {
   "cell_type": "code",
   "execution_count": 4,
   "metadata": {},
   "outputs": [],
   "source": [
    "class Network(nn.Cell):\n",
    "    def __init__(\n",
    "        self,\n",
    "        in_dim: int,\n",
    "        out_dim: int,\n",
    "        atom_size: int,\n",
    "        support: Tensor\n",
    "    ):\n",
    "        \"\"\"Initialization.\"\"\"\n",
    "        super(Network, self).__init__()\n",
    "\n",
    "        self.support = support\n",
    "        self.out_dim = out_dim\n",
    "        self.atom_size = atom_size\n",
    "\n",
    "        self.layers = nn.SequentialCell(\n",
    "            nn.Dense(in_dim, 128),\n",
    "            nn.ReLU(),\n",
    "            nn.Dense(128, 128),\n",
    "            nn.ReLU(),\n",
    "            nn.Dense(128, out_dim * atom_size)\n",
    "        )\n",
    "\n",
    "    def construct(self, x: Tensor) -> Tensor:\n",
    "        \"\"\"Forward method implementation.\"\"\"\n",
    "        dist = self.dist(x)\n",
    "        q = ops.sum(dist * self.support, dim=2)\n",
    "\n",
    "        return q\n",
    "\n",
    "    def dist(self, x: Tensor) -> Tensor:\n",
    "        \"\"\"Get distribution for atoms.\"\"\"\n",
    "        q_atoms = self.layers(x).view((-1, self.out_dim, self.atom_size))\n",
    "        dist = ops.softmax(q_atoms, axis=-1)\n",
    "        dist = dist.clamp(min=1e-3)  # for avoiding nans\n",
    "\n",
    "        return dist"
   ]
  },
  {
   "attachments": {},
   "cell_type": "markdown",
   "metadata": {},
   "source": [
    "## Categorical DQN Agent\n",
    "\n",
    "\n",
    "Here is a summary of DQNAgent class.\n",
    "\n",
    "| Method           | Note                                                 |\n",
    "| ---              | ---                                                  |\n",
    "|select_action     | select an action from the input state.               |\n",
    "|step              | take an action and return the response of the env.   |\n",
    "|compute_dqn_loss  | return dqn loss.                                     |\n",
    "|update_model      | update the model by gradient descent.                |\n",
    "|target_hard_update| hard update from the local model to the target model.|\n",
    "|train             | train the agent during num_frames.                   |\n",
    "|test              | test the agent (1 episode).                          |\n",
    "|plot              | plot the training progresses.                        |\n",
    "\n",
    "All differences from pure DQN are noted with comments *Categorical DQN*."
   ]
  },
  {
   "cell_type": "code",
   "execution_count": 5,
   "metadata": {},
   "outputs": [],
   "source": [
    "\n",
    "class DQNAgent:\n",
    "    \"\"\"DQN Agent interacting with environment.\n",
    "\n",
    "    Attribute:\n",
    "        env (gym.Env): openAI Gym environment\n",
    "        memory (ReplayBuffer): replay memory to store transitions\n",
    "        batch_size (int): batch size for sampling\n",
    "        epsilon (float): parameter for epsilon greedy policy\n",
    "        epsilon_decay (float): step size to decrease epsilon\n",
    "        max_epsilon (float): max value of epsilon\n",
    "        min_epsilon (float): min value of epsilon\n",
    "        target_update (int): period for target model's hard update\n",
    "        gamma (float): discount factor\n",
    "        dqn (Network): model to train and select actions\n",
    "        dqn_target (Network): target model to update\n",
    "        optimizer (torch.optim): optimizer for training dqn\n",
    "        transition (list): transition information including\n",
    "                           state, action, reward, next_state, done\n",
    "        v_min (float): min value of support\n",
    "        v_max (float): max value of support\n",
    "        atom_size (int): the unit number of support\n",
    "        support (torch.Tensor): support for categorical dqn\n",
    "    \"\"\"\n",
    "\n",
    "    def __init__(\n",
    "        self,\n",
    "        env: gym.Env,\n",
    "        memory_size: int,\n",
    "        batch_size: int,\n",
    "        target_update: int,\n",
    "        epsilon_decay: float,\n",
    "        seed: int,\n",
    "        max_epsilon: float = 1.0,\n",
    "        min_epsilon: float = 0.1,\n",
    "        gamma: float = 0.99,\n",
    "        # Categorical DQN parameters\n",
    "        v_min: float = 0.0,\n",
    "        v_max: float = 200.0,\n",
    "        atom_size: int = 51,\n",
    "    ):\n",
    "        \"\"\"Initialization.\n",
    "\n",
    "        Args:\n",
    "            env (gym.Env): openAI Gym environment\n",
    "            memory_size (int): length of memory\n",
    "            batch_size (int): batch size for sampling\n",
    "            target_update (int): period for target model's hard update\n",
    "            epsilon_decay (float): step size to decrease epsilon\n",
    "            lr (float): learning rate\n",
    "            max_epsilon (float): max value of epsilon\n",
    "            min_epsilon (float): min value of epsilon\n",
    "            gamma (float): discount factor\n",
    "            v_min (float): min value of support\n",
    "            v_max (float): max value of support\n",
    "            atom_size (int): the unit number of support\n",
    "        \"\"\"\n",
    "        obs_dim = env.observation_space.shape[0]\n",
    "        action_dim = int(env.action_space.n)\n",
    "\n",
    "        self.env = env\n",
    "        self.memory = ReplayBuffer(obs_dim, memory_size, batch_size)\n",
    "        self.batch_size = batch_size\n",
    "        self.epsilon = max_epsilon\n",
    "        self.epsilon_decay = epsilon_decay\n",
    "        self.seed = seed\n",
    "        self.max_epsilon = max_epsilon\n",
    "        self.min_epsilon = min_epsilon\n",
    "        self.target_update = target_update\n",
    "        self.gamma = gamma\n",
    "\n",
    "        # device: cpu / gpu\n",
    "        os.environ[\"CUDA_VISIBLE_DEVICES\"] = '0'\n",
    "        mindspore.set_context(device_target='GPU')\n",
    "        self.device = 'GPU'\n",
    "        print(self.device)\n",
    "\n",
    "        # Categorical DQN parameters\n",
    "        self.v_min = v_min\n",
    "        self.v_max = v_max\n",
    "        self.atom_size = atom_size\n",
    "        self.support = ops.linspace(\n",
    "            self.v_min, self.v_max, self.atom_size\n",
    "        )\n",
    "\n",
    "        # networks: dqn, dqn_target\n",
    "        self.dqn = Network(\n",
    "            obs_dim, action_dim, atom_size, self.support\n",
    "        )\n",
    "        self.dqn_target = Network(\n",
    "            obs_dim, action_dim, atom_size, self.support\n",
    "        )\n",
    "        mindspore.load_param_into_net(self.dqn_target, self.dqn.parameters_dict())\n",
    "        self.dqn.set_train(True)\n",
    "        self.dqn_target.set_train(False)\n",
    "\n",
    "        # optimizer\n",
    "        self.accumulate_step = 2\n",
    "        self.optimizer = nn.Adam(self.dqn.trainable_params(), learning_rate=2e-3)\n",
    "        self.accumulator = Accumulator(self.optimizer, self.accumulate_step)\n",
    "\n",
    "        # transition to store in memory\n",
    "        self.transition = list()\n",
    "\n",
    "        # mode: train / test\n",
    "        self.is_test = False\n",
    "\n",
    "        # Get gradient function\n",
    "        self.grad_fn = mindspore.value_and_grad(self.forward_fn, None, self.dqn.trainable_params())\n",
    "\n",
    "    def select_action(self, state: np.ndarray) -> np.ndarray:\n",
    "        \"\"\"Select an action from the input state.\"\"\"\n",
    "        # epsilon greedy policy\n",
    "        if self.epsilon > np.random.random():\n",
    "            selected_action = self.env.action_space.sample()\n",
    "        else:\n",
    "            selected_action = self.dqn(\n",
    "                Tensor(state, mindspore.float32).expand_dims(0)\n",
    "            ).argmax()\n",
    "            selected_action = selected_action.asnumpy()\n",
    "\n",
    "        if not self.is_test:\n",
    "            self.transition = [state, selected_action]\n",
    "\n",
    "        return selected_action\n",
    "\n",
    "    def step(self, action: np.ndarray) -> Tuple[np.ndarray, np.float64, bool]:\n",
    "        \"\"\"Take an action and return the response of the env.\"\"\"\n",
    "        next_state, reward, terminated, truncated, _ = self.env.step(action)\n",
    "        done = terminated or truncated\n",
    "\n",
    "        if not self.is_test:\n",
    "            self.transition += [reward, next_state, done]\n",
    "            self.memory.store(*self.transition)\n",
    "\n",
    "        return next_state, reward, done\n",
    "\n",
    "    def forward_fn(self):\n",
    "        \"\"\"Forward function\"\"\"\n",
    "        samples = self.memory.sample_batch()\n",
    "\n",
    "        loss = self._compute_dqn_loss(samples)\n",
    "\n",
    "        return loss / self.accumulate_step\n",
    "\n",
    "    def train_step(self) -> Tensor:\n",
    "        \"\"\"Training steps\"\"\"\n",
    "        loss, grads = self.grad_fn()\n",
    "        loss = ops.depend(loss, self.accumulator(grads))\n",
    "        return loss\n",
    "\n",
    "    def update_model(self) -> Tensor:\n",
    "        \"\"\"Update the model by gradient descent.\"\"\"\n",
    "        loss = self.train_step()\n",
    "\n",
    "        return loss.item(0) * self.accumulate_step\n",
    "\n",
    "    def train(self, num_frames: int, plotting_interval: int = 200):\n",
    "        \"\"\"Train the agent.\"\"\"\n",
    "        self.is_test = False\n",
    "\n",
    "        state, _ = self.env.reset(seed=self.seed)\n",
    "        update_cnt = 0\n",
    "        epsilons = []\n",
    "        losses = []\n",
    "        scores = []\n",
    "        score = 0\n",
    "\n",
    "        for frame_idx in range(1, num_frames + 1):\n",
    "            action = self.select_action(state)\n",
    "            next_state, reward, done = self.step(action)\n",
    "\n",
    "            state = next_state\n",
    "            score += reward\n",
    "\n",
    "            # if episode ends\n",
    "            if done:\n",
    "                state, _ = self.env.reset(seed=self.seed)\n",
    "                scores.append(score)\n",
    "                score = 0\n",
    "\n",
    "            # if training is ready\n",
    "            if len(self.memory) >= self.batch_size:\n",
    "                loss = self.update_model()\n",
    "                losses.append(loss)\n",
    "                update_cnt += 1\n",
    "\n",
    "                # linearly decrease epsilon\n",
    "                self.epsilon = max(\n",
    "                    self.min_epsilon, self.epsilon - (\n",
    "                        self.max_epsilon - self.min_epsilon\n",
    "                    ) * self.epsilon_decay\n",
    "                )\n",
    "                epsilons.append(self.epsilon)\n",
    "\n",
    "                # if hard update is needed\n",
    "                if update_cnt % self.target_update == 0:\n",
    "                    self._target_hard_update()\n",
    "\n",
    "            # plotting\n",
    "            if frame_idx % plotting_interval == 0:\n",
    "                self._plot(frame_idx, scores, losses, epsilons)\n",
    "\n",
    "        self.env.close()\n",
    "\n",
    "    def test(self, video_folder: str) -> None:\n",
    "        \"\"\"Test the agent.\"\"\"\n",
    "        self.is_test = True\n",
    "\n",
    "        # for recording a video\n",
    "        naive_env = self.env\n",
    "        self.env = gym.wrappers.RecordVideo(self.env, video_folder=video_folder)\n",
    "\n",
    "        state, _ = self.env.reset(seed=self.seed)\n",
    "        done = False\n",
    "        score = 0\n",
    "\n",
    "        while not done:\n",
    "            action = self.select_action(state)\n",
    "            next_state, reward, done = self.step(action)\n",
    "\n",
    "            state = next_state\n",
    "            score += reward\n",
    "\n",
    "        print(\"score: \", score)\n",
    "        self.env.close()\n",
    "\n",
    "        # reset\n",
    "        self.env = naive_env\n",
    "\n",
    "    def _compute_dqn_loss(self, samples: Dict[str, np.ndarray]) -> Tensor:\n",
    "        \"\"\"Return categorical dqn loss.\"\"\"\n",
    "        state = Tensor(samples[\"obs\"], mindspore.float32)\n",
    "        next_state = Tensor(samples[\"next_obs\"], mindspore.float32)\n",
    "        action = Tensor(samples[\"acts\"], mindspore.int64)\n",
    "        reward = Tensor(samples[\"rews\"].reshape(-1, 1), mindspore.float32)\n",
    "        done = Tensor(samples[\"done\"].reshape(-1, 1), mindspore.float32)\n",
    "\n",
    "        # Categorical DQN algorithm\n",
    "        delta_z = float(self.v_max - self.v_min) / (self.atom_size - 1)\n",
    "\n",
    "        next_action = self.dqn_target(next_state).argmax(1)\n",
    "        next_dist = self.dqn_target.dist(next_state)\n",
    "        index = Tensor(np.arange(self.batch_size))\n",
    "        next_dist = next_dist[index, next_action]\n",
    "\n",
    "        t_z = reward + (1 - done) * self.gamma * self.support\n",
    "        t_z = t_z.clamp(min=self.v_min, max=self.v_max)\n",
    "        b = (t_z - self.v_min) / delta_z\n",
    "        l = b.floor().long()\n",
    "        u = b.ceil().long()\n",
    "\n",
    "        offset = (\n",
    "            ops.linspace(\n",
    "                0, (self.batch_size - 1) * self.atom_size, self.batch_size\n",
    "            ).long()\n",
    "            .unsqueeze(1)\n",
    "            .broadcast_to((self.batch_size, self.atom_size))\n",
    "        )\n",
    "\n",
    "        proj_dist = np.zeros(next_dist.shape)\n",
    "        index_pr = (l.asnumpy() + offset.asnumpy()).ravel()\n",
    "        value = (next_dist.asnumpy() * (u - b).asnumpy()).ravel()\n",
    "        np.add.at(proj_dist.ravel(), index_pr, value)\n",
    "\n",
    "        index_pr = (u.asnumpy() + offset.asnumpy()).ravel()\n",
    "        value = (next_dist.asnumpy() * (b - l).asnumpy()).ravel()\n",
    "        np.add.at(proj_dist.ravel(), index_pr, value)\n",
    "        proj_dist = Tensor(proj_dist)\n",
    "\n",
    "        dist = self.dqn.dist(state)\n",
    "        log_p = ops.log(dist[index, action])\n",
    "\n",
    "        loss = -(proj_dist * log_p).sum(1).mean()\n",
    "\n",
    "        return loss\n",
    "\n",
    "    def _target_hard_update(self):\n",
    "        \"\"\"Hard update: target <- local.\"\"\"\n",
    "        mindspore.load_param_into_net(self.dqn_target, self.dqn.parameters_dict())\n",
    "\n",
    "    def _plot(\n",
    "        self,\n",
    "        frame_idx: int,\n",
    "        scores: List[float],\n",
    "        losses: List[float],\n",
    "        epsilons: List[float],\n",
    "    ):\n",
    "        \"\"\"Plot the training progresses.\"\"\"\n",
    "        clear_output(True)\n",
    "        plt.figure(figsize=(20, 5))\n",
    "        plt.subplot(131)\n",
    "        plt.title('frame %s. score: %s' % (frame_idx, np.mean(scores[-10:])))\n",
    "        plt.plot(scores)\n",
    "        plt.subplot(132)\n",
    "        plt.title('loss')\n",
    "        plt.plot(losses)\n",
    "        plt.subplot(133)\n",
    "        plt.title('epsilons')\n",
    "        plt.plot(epsilons)\n",
    "        plt.show()"
   ]
  },
  {
   "attachments": {},
   "cell_type": "markdown",
   "metadata": {},
   "source": [
    "## Environment\n",
    "\n",
    "You can see the [code](https://github.com/Farama-Foundation/Gymnasium/blob/main/gymnasium/envs/classic_control/cartpole.py) and [configurations](https://github.com/Farama-Foundation/Gymnasium/blob/main/gymnasium/envs/classic_control/cartpole.py#L91) of CartPole-v1 from Farama Gymnasium's repository."
   ]
  },
  {
   "cell_type": "code",
   "execution_count": 6,
   "metadata": {},
   "outputs": [],
   "source": [
    "# environment\n",
    "env = gym.make(\"CartPole-v1\", max_episode_steps=200, render_mode=\"rgb_array\")"
   ]
  },
  {
   "attachments": {},
   "cell_type": "markdown",
   "metadata": {},
   "source": [
    "## Set random seed"
   ]
  },
  {
   "cell_type": "code",
   "execution_count": 7,
   "metadata": {},
   "outputs": [],
   "source": [
    "seed = 777\n",
    "\n",
    "\n",
    "def seed_mindspore(seed):\n",
    "    \"\"\"Set Random Seed\"\"\"\n",
    "    mindspore.set_seed(seed)\n",
    "\n",
    "\n",
    "np.random.seed(seed)\n",
    "seed_mindspore(seed)"
   ]
  },
  {
   "attachments": {},
   "cell_type": "markdown",
   "metadata": {},
   "source": [
    "## Initialize"
   ]
  },
  {
   "cell_type": "code",
   "execution_count": 8,
   "metadata": {},
   "outputs": [
    {
     "name": "stdout",
     "output_type": "stream",
     "text": [
      "GPU\n"
     ]
    }
   ],
   "source": [
    "# parameters\n",
    "num_frames = 10000\n",
    "memory_size = 2000\n",
    "batch_size = 32\n",
    "target_update = 150\n",
    "epsilon_decay = 1 / 2000\n",
    "\n",
    "# train\n",
    "agent = DQNAgent(env, memory_size, batch_size, target_update, epsilon_decay, seed)"
   ]
  },
  {
   "attachments": {},
   "cell_type": "markdown",
   "metadata": {},
   "source": [
    "## Train"
   ]
  },
  {
   "cell_type": "code",
   "execution_count": 9,
   "metadata": {},
   "outputs": [
    {
     "data": {
      "image/png": "[encoded data removed]",
      "text/plain": [
       "<Figure size 1440x360 with 3 Axes>"
      ]
     },
     "metadata": {
      "needs_background": "light"
     },
     "output_type": "display_data"
    }
   ],
   "source": [
    "agent.train(num_frames)"
   ]
  },
  {
   "attachments": {},
   "cell_type": "markdown",
   "metadata": {},
   "source": [
    "## Test\n",
    "\n",
    "Run the trained agent (1 episode)."
   ]
  },
  {
   "cell_type": "code",
   "execution_count": 10,
   "metadata": {},
   "outputs": [
    {
     "name": "stderr",
     "output_type": "stream",
     "text": [
      "/home/daiyuxin/anaconda3/envs/cjh1/lib/python3.7/site-packages/gymnasium/wrappers/record_video.py:88: UserWarning: \u001b[33mWARN: Overwriting existing videos at /data1/cjh1/rainbow-is-all-you-need-MindSpore/Rainbow-MindSpore/videos/categorical_dqn folder (try specifying a different `video_folder` for the `RecordVideo` wrapper if this is not desired)\u001b[0m\n",
      "  f\"Overwriting existing videos at {self.video_folder} folder \"\n"
     ]
    },
    {
     "name": "stdout",
     "output_type": "stream",
     "text": [
      "Moviepy - Building video /data1/cjh1/rainbow-is-all-you-need-MindSpore/Rainbow-MindSpore/videos/categorical_dqn/rl-video-episode-0.mp4.\n",
      "Moviepy - Writing video /data1/cjh1/rainbow-is-all-you-need-MindSpore/Rainbow-MindSpore/videos/categorical_dqn/rl-video-episode-0.mp4\n",
      "\n"
     ]
    },
    {
     "name": "stderr",
     "output_type": "stream",
     "text": [
      "                                                               \r"
     ]
    },
    {
     "name": "stdout",
     "output_type": "stream",
     "text": [
      "Moviepy - Done !\n",
      "Moviepy - video ready /data1/cjh1/rainbow-is-all-you-need-MindSpore/Rainbow-MindSpore/videos/categorical_dqn/rl-video-episode-0.mp4\n",
      "score:  200.0\n"
     ]
    }
   ],
   "source": [
    "video_folder = \"videos/categorical_dqn\"\n",
    "agent.test(video_folder=video_folder)"
   ]
  },
  {
   "attachments": {},
   "cell_type": "markdown",
   "metadata": {},
   "source": [
    "## Render"
   ]
  },
  {
   "cell_type": "code",
   "execution_count": 12,
   "metadata": {},
   "outputs": [
    {
     "data": {
      "text/html": [
       "\n",
       "        <video width=\"320\" height=\"240\" alt=\"test\" controls>\n",
       "        <source src=\"data:video/mp4;base64,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\" type=\"video/mp4\"/>\n",
       "        </video>\n",
       "        "
      ],
      "text/plain": [
       "<IPython.core.display.HTML object>"
      ]
     },
     "metadata": {},
     "output_type": "display_data"
    },
    {
     "name": "stdout",
     "output_type": "stream",
     "text": [
      "Played: videos/categorical_dqn/rl-video-episode-0.mp4\n"
     ]
    }
   ],
   "source": [
    "import base64\n",
    "import glob\n",
    "import io\n",
    "\n",
    "from IPython.display import HTML, display\n",
    "\n",
    "\n",
    "def ipython_show_video(path: str) -> None:\n",
    "    \"\"\"Show a video at `path` within IPython Notebook.\"\"\"\n",
    "    if not os.path.isfile(path):\n",
    "        raise NameError(\"Cannot access: {}\".format(path))\n",
    "\n",
    "    video = io.open(path, \"r+b\").read()\n",
    "    encoded = base64.b64encode(video)\n",
    "\n",
    "    display(HTML(\n",
    "        data=\"\"\"\n",
    "        <video width=\"320\" height=\"240\" alt=\"test\" controls>\n",
    "        <source src=\"data:video/mp4;base64,{0}\" type=\"video/mp4\"/>\n",
    "        </video>\n",
    "        \"\"\".format(encoded.decode(\"ascii\"))\n",
    "    ))\n",
    "\n",
    "\n",
    "def show_latest_video(video_folder: str) -> str:\n",
    "    \"\"\"Show the most recently recorded video from video folder.\"\"\"\n",
    "    list_of_files = glob.glob(os.path.join(video_folder, \"*.mp4\"))\n",
    "    latest_file = max(list_of_files, key=os.path.getctime)\n",
    "    ipython_show_video(latest_file)\n",
    "    return latest_file\n",
    "\n",
    "\n",
    "latest_file = show_latest_video(video_folder=video_folder)\n",
    "print(\"Played:\", latest_file)"
   ]
  }
 ],
 "metadata": {
  "kernelspec": {
   "display_name": "cjh1",
   "language": "python",
   "name": "python3"
  },
  "language_info": {
   "codemirror_mode": {
    "name": "ipython",
    "version": 3
   },
   "file_extension": ".py",
   "mimetype": "text/x-python",
   "name": "python",
   "nbconvert_exporter": "python",
   "pygments_lexer": "ipython3",
   "version": "3.7.13"
  }
 },
 "nbformat": 4,
 "nbformat_minor": 4
}
