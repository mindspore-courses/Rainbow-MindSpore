{
 "cells": [
  {
   "attachments": {},
   "cell_type": "markdown",
   "metadata": {},
   "source": [
    "## Configurations for Colab"
   ]
  },
  {
   "cell_type": "code",
   "execution_count": 1,
   "metadata": {},
   "outputs": [
    {
     "data": {
      "text/plain": [
       "<pyvirtualdisplay.display.Display at 0x7f38743b52d0>"
      ]
     },
     "execution_count": 1,
     "metadata": {},
     "output_type": "execute_result"
    }
   ],
   "source": [
    "\"\"\"\n",
    "    在Ubuntu服务器上设置虚拟显示\n",
    "    sudo apt update\n",
    "    sudo apt install python-opengl ffmpeg xvfb\n",
    "    启动虚拟X服务器\n",
    "    Xvfb :1 -screen 0 1024x768x24 &\n",
    "    export DISPLAY=:1\n",
    "\"\"\"\n",
    "\n",
    "from pyvirtualdisplay import Display\n",
    "\n",
    "# Start virtual display\n",
    "dis = Display(visible=0, size=(400, 400))\n",
    "dis.start()"
   ]
  },
  {
   "attachments": {},
   "cell_type": "markdown",
   "metadata": {},
   "source": [
    "# 04. Dueling Network\n",
    "\n",
    "[Z. Wang et al., \"Dueling Network Architectures for Deep Reinforcement Learning.\" arXiv preprint arXiv:1511.06581, 2015.](https://arxiv.org/pdf/1511.06581.pdf)\n",
    "\n",
    "The proposed network architecture, which is named *dueling architecture*, explicitly separates the representation of state values and (state-dependent) action advantages. \n",
    "\n",
    "![fig1](https://user-images.githubusercontent.com/14961526/60322956-c2f0b600-99bb-11e9-9ed4-443bd14bc3b0.png)\n",
    "\n",
    "The dueling network automatically produces separate estimates of the state value function and advantage function, without any extra supervision. Intuitively, the dueling architecture can learn which states are (or are not) valuable, without having to learn the effect of each action for each state. This is particularly useful in states where its actions do not affect the environment in any relevant way. \n",
    "\n",
    "The dueling architecture represents both the value $V(s)$ and advantage $A(s, a)$ functions with a single deep model whose output combines the two to produce a state-action value $Q(s, a)$. Unlike in advantage updating, the representation and algorithm are decoupled by construction.\n",
    "\n",
    "$$A^\\pi (s, a) = Q^\\pi (s, a) - V^\\pi (s).$$\n",
    "\n",
    "The value function $V$ measures the how good it is to be in a particular state $s$. The $Q$ function, however, measures the the value of choosing a particular action when in this state. Now, using the definition of advantage, we might be tempted to construct the aggregating module as follows:\n",
    "\n",
    "$$Q(s, a; \\theta, \\alpha, \\beta) = V (s; \\theta, \\beta) + A(s, a; \\theta, \\alpha),$$\n",
    "\n",
    "where $\\theta$ denotes the parameters of the convolutional layers, while $\\alpha$ and $\\beta$ are the parameters of the two streams of fully-connected layers.\n",
    "\n",
    "Unfortunately, the above equation is unidentifiable in the sense that given $Q$ we cannot recover $V$ and $A$ uniquely; for example, there are uncountable pairs of $V$ and $A$ that make $Q$ values to zero. To address this issue of identifiability, we can force the advantage function estimator to have zero advantage at the chosen action. That is, we let the last module of the network implement the forward mapping.\n",
    "\n",
    "$$\n",
    "Q(s, a; \\theta, \\alpha, \\beta) = V (s; \\theta, \\beta) + \\big( A(s, a; \\theta, \\alpha) - \\max_{a' \\in |\\mathcal{A}|} A(s, a'; \\theta, \\alpha) \\big).\n",
    "$$\n",
    "\n",
    "This formula guarantees that we can recover the unique $V$ and $A$, but the optimization is not so stable because the advantages have to compensate any change to the optimal action’s advantage. Due to the reason, an alternative module that replaces the max operator with an average is proposed:\n",
    "\n",
    "$$\n",
    "Q(s, a; \\theta, \\alpha, \\beta) = V (s; \\theta, \\beta) + \\big( A(s, a; \\theta, \\alpha) - \\frac{1}{|\\mathcal{A}|} \\sum_{a'} A(s, a'; \\theta, \\alpha) \\big).\n",
    "$$\n",
    "\n",
    "Unlike the max advantage form, in this formula, the advantages only need to change as fast as the mean, so it increases the stability of optimization."
   ]
  },
  {
   "cell_type": "code",
   "execution_count": 2,
   "metadata": {},
   "outputs": [
    {
     "name": "stderr",
     "output_type": "stream",
     "text": [
      "[WARNING] ME(199688:139880545826624,MainProcess):2023-07-06-19:13:12.537.555 [mindspore/run_check/_check_version.py:102] MindSpore version 2.0.0.20230623 and cuda version 11.7.60 does not match, CUDA version [['10.1', '11.1', '11.6']] are supported by MindSpore officially. Please refer to the installation guide for version matching information: https://www.mindspore.cn/install.\n",
      "/home/daiyuxin/anaconda3/envs/cjh1/lib/python3.7/site-packages/mindnlp/utils/download.py:29: TqdmExperimentalWarning: Using `tqdm.autonotebook.tqdm` in notebook mode. Use `tqdm.tqdm` instead to force console mode (e.g. in jupyter console)\n",
      "  from tqdm.autonotebook import tqdm\n"
     ]
    }
   ],
   "source": [
    "import os\n",
    "from typing import Dict, List, Tuple\n",
    "\n",
    "import gymnasium as gym\n",
    "import matplotlib.pyplot as plt\n",
    "import numpy as np\n",
    "import mindspore\n",
    "from mindspore import nn, ops, Tensor\n",
    "from mindnlp.modules import Accumulator\n",
    "from IPython.display import clear_output"
   ]
  },
  {
   "attachments": {},
   "cell_type": "markdown",
   "metadata": {},
   "source": [
    "## Replay buffer\n",
    "\n",
    "Please see *01.dqn.ipynb* for detailed description."
   ]
  },
  {
   "cell_type": "code",
   "execution_count": 3,
   "metadata": {},
   "outputs": [],
   "source": [
    "class ReplayBuffer:\n",
    "    \"\"\"A simple numpy replay buffer.\"\"\"\n",
    "\n",
    "    def __init__(self, obs_dim: int, size: int, batch_size: int = 32):\n",
    "        self.obs_buf = np.zeros([size, obs_dim], dtype=np.float32)\n",
    "        self.next_obs_buf = np.zeros([size, obs_dim], dtype=np.float32)\n",
    "        self.acts_buf = np.zeros([size], dtype=np.float32)\n",
    "        self.rews_buf = np.zeros([size], dtype=np.float32)\n",
    "        self.done_buf = np.zeros(size, dtype=np.float32)\n",
    "        self.max_size, self.batch_size = size, batch_size\n",
    "        self.ptr, self.size, = 0, 0\n",
    "\n",
    "    def store(\n",
    "        self,\n",
    "        obs: np.ndarray,\n",
    "        act: np.ndarray,\n",
    "        rew: float,\n",
    "        next_obs: np.ndarray,\n",
    "        done: bool,\n",
    "    ):\n",
    "        self.obs_buf[self.ptr] = obs\n",
    "        self.next_obs_buf[self.ptr] = next_obs\n",
    "        self.acts_buf[self.ptr] = act\n",
    "        self.rews_buf[self.ptr] = rew\n",
    "        self.done_buf[self.ptr] = done\n",
    "        self.ptr = (self.ptr + 1) % self.max_size\n",
    "        self.size = min(self.size + 1, self.max_size)\n",
    "\n",
    "    def sample_batch(self) -> Dict[str, np.ndarray]:\n",
    "        idxs = np.random.choice(self.size, size=self.batch_size, replace=False)\n",
    "        return dict(obs=self.obs_buf[idxs],\n",
    "                    next_obs=self.next_obs_buf[idxs],\n",
    "                    acts=self.acts_buf[idxs],\n",
    "                    rews=self.rews_buf[idxs],\n",
    "                    done=self.done_buf[idxs])\n",
    "\n",
    "    def __len__(self) -> int:\n",
    "        return self.size"
   ]
  },
  {
   "attachments": {},
   "cell_type": "markdown",
   "metadata": {},
   "source": [
    "## Dueling Network\n",
    "\n",
    "Carefully take a look at advantage and value layers separated from feature layer."
   ]
  },
  {
   "cell_type": "code",
   "execution_count": 4,
   "metadata": {},
   "outputs": [],
   "source": [
    "class Network(nn.Cell):\n",
    "    def __init__(self, in_dim: int, out_dim: int):\n",
    "        \"\"\"Initialization.\"\"\"\n",
    "        super(Network, self).__init__()\n",
    "\n",
    "        # set common feature layer\n",
    "        self.feature_layer = nn.SequentialCell(\n",
    "            nn.Dense(in_dim, 128),\n",
    "            nn.ReLU(),\n",
    "        )\n",
    "\n",
    "        # set advantage layer\n",
    "        self.advantage_layer = nn.SequentialCell(\n",
    "            nn.Dense(128, 128),\n",
    "            nn.ReLU(),\n",
    "            nn.Dense(128, out_dim),\n",
    "        )\n",
    "\n",
    "        # set value layer\n",
    "        self.value_layer = nn.SequentialCell(\n",
    "            nn.Dense(128, 128),\n",
    "            nn.ReLU(),\n",
    "            nn.Dense(128, 1),\n",
    "        )\n",
    "\n",
    "    def construct(self, x: Tensor) -> Tensor:\n",
    "        \"\"\"Forward method implementation.\"\"\"\n",
    "        feature = self.feature_layer(x)\n",
    "\n",
    "        value = self.value_layer(feature)\n",
    "        advantage = self.advantage_layer(feature)\n",
    "\n",
    "        q = value + advantage - advantage.mean(axis=-1, keep_dims=True)\n",
    "\n",
    "        return q"
   ]
  },
  {
   "attachments": {},
   "cell_type": "markdown",
   "metadata": {},
   "source": [
    "## DQN + DuelingNet Agent (w/o Double-DQN & PER)\n",
    "\n",
    "Here is a summary of DQNAgent class.\n",
    "\n",
    "| Method           | Note                                                 |\n",
    "| ---              | ---                                                  |\n",
    "|select_action     | select an action from the input state.               |\n",
    "|step              | take an action and return the response of the env.   |\n",
    "|compute_dqn_loss  | return dqn loss.                                     |\n",
    "|update_model      | update the model by gradient descent.                |\n",
    "|target_hard_update| hard update from the local model to the target model.|\n",
    "|train             | train the agent during num_frames.                   |\n",
    "|test              | test the agent (1 episode).                          |\n",
    "|plot              | plot the training progresses.                        |\n",
    "\n",
    "\n",
    "Aside from the dueling network architecture, the authors suggest to use Double-DQN and Prioritized Experience Replay as extra components for better performance. However, we don't implement them to simplify the tutorial. There is only one diffrence between DQNAgent here and the one from *01.dqn.ipynb* and that is the usage of clip_grad_norm_ to prevent gradient exploding."
   ]
  },
  {
   "cell_type": "code",
   "execution_count": 5,
   "metadata": {},
   "outputs": [],
   "source": [
    "class DQNAgent:\n",
    "    \"\"\"DQN Agent interacting with environment.\n",
    "\n",
    "    Attribute:\n",
    "        env (gym.Env): openAI Gym environment\n",
    "        memory (ReplayBuffer): replay memory to store transitions\n",
    "        batch_size (int): batch size for sampling\n",
    "        epsilon (float): parameter for epsilon greedy policy\n",
    "        epsilon_decay (float): step size to decrease epsilon\n",
    "        max_epsilon (float): max value of epsilon\n",
    "        min_epsilon (float): min value of epsilon\n",
    "        target_update (int): period for target model's hard update\n",
    "        gamma (float): discount factor\n",
    "        dqn (Network): model to train and select actions\n",
    "        dqn_target (Network): target model to update\n",
    "        optimizer (torch.optim): optimizer for training dqn\n",
    "        transition (list): transition information including\n",
    "                           state, action, reward, next_state, done\n",
    "    \"\"\"\n",
    "\n",
    "    def __init__(\n",
    "        self,\n",
    "        env: gym.Env,\n",
    "        memory_size: int,\n",
    "        batch_size: int,\n",
    "        target_update: int,\n",
    "        epsilon_decay: float,\n",
    "        seed: int,\n",
    "        max_epsilon: float = 1.0,\n",
    "        min_epsilon: float = 0.1,\n",
    "        gamma: float = 0.99,\n",
    "    ):\n",
    "        \"\"\"Initialization.\n",
    "\n",
    "        Args:\n",
    "            env (gym.Env): openAI Gym environment\n",
    "            memory_size (int): length of memory\n",
    "            batch_size (int): batch size for sampling\n",
    "            target_update (int): period for target model's hard update\n",
    "            epsilon_decay (float): step size to decrease epsilon\n",
    "            lr (float): learning rate\n",
    "            max_epsilon (float): max value of epsilon\n",
    "            min_epsilon (float): min value of epsilon\n",
    "            gamma (float): discount factor\n",
    "        \"\"\"\n",
    "        obs_dim = env.observation_space.shape[0]\n",
    "        action_dim = int(env.action_space.n)\n",
    "\n",
    "        self.env = env\n",
    "        self.memory = ReplayBuffer(obs_dim, memory_size, batch_size)\n",
    "        self.batch_size = batch_size\n",
    "        self.epsilon = max_epsilon\n",
    "        self.epsilon_decay = epsilon_decay\n",
    "        self.seed = seed\n",
    "        self.max_epsilon = max_epsilon\n",
    "        self.min_epsilon = min_epsilon\n",
    "        self.target_update = target_update\n",
    "        self.gamma = gamma\n",
    "\n",
    "        # device: cpu / gpu\n",
    "        os.environ[\"CUDA_VISIBLE_DEVICES\"] = '0'\n",
    "        mindspore.set_context(device_target='GPU')\n",
    "        self.device = 'GPU'\n",
    "        print(self.device)\n",
    "\n",
    "        # networks: dqn, dqn_target\n",
    "        self.dqn = Network(obs_dim, action_dim)\n",
    "        self.dqn_target = Network(obs_dim, action_dim)\n",
    "        mindspore.load_param_into_net(self.dqn_target, self.dqn.parameters_dict())\n",
    "        self.dqn.set_train(True)\n",
    "        self.dqn_target.set_train(False)\n",
    "\n",
    "        # optimizer\n",
    "        self.accumulate_step = 2\n",
    "        self.optimizer = nn.Adam(self.dqn.trainable_params())\n",
    "        self.accumulator = Accumulator(self.optimizer, self.accumulate_step)\n",
    "\n",
    "        # transition to store in memory\n",
    "        self.transition = list()\n",
    "\n",
    "        # mode: train / test\n",
    "        self.is_test = False\n",
    "\n",
    "        # Get gradient function\n",
    "        self.grad_fn = mindspore.value_and_grad(self.forward_fn, None, self.dqn.trainable_params())\n",
    "\n",
    "    def select_action(self, state: np.ndarray) -> np.ndarray:\n",
    "        \"\"\"Select an action from the input state.\"\"\"\n",
    "        # epsilon greedy policy\n",
    "        if self.epsilon > np.random.random():\n",
    "            selected_action = self.env.action_space.sample()\n",
    "        else:\n",
    "            selected_action = self.dqn(\n",
    "                Tensor(state, mindspore.float32).expand_dims(0)\n",
    "            ).argmax()\n",
    "            selected_action = selected_action.asnumpy()\n",
    "\n",
    "        if not self.is_test:\n",
    "            self.transition = [state, selected_action]\n",
    "\n",
    "        return selected_action\n",
    "\n",
    "    def step(self, action: np.ndarray) -> Tuple[np.ndarray, np.float64, bool]:\n",
    "        \"\"\"Take an action and return the response of the env.\"\"\"\n",
    "        next_state, reward, terminated, truncated, _ = self.env.step(action)\n",
    "        done = terminated or truncated\n",
    "\n",
    "        if not self.is_test:\n",
    "            self.transition += [reward, next_state, done]\n",
    "            self.memory.store(*self.transition)\n",
    "\n",
    "        return next_state, reward, done\n",
    "\n",
    "    def forward_fn(self):\n",
    "        \"\"\"Forward function\"\"\"\n",
    "        samples = self.memory.sample_batch()\n",
    "\n",
    "        loss = self._compute_dqn_loss(samples)\n",
    "\n",
    "        return loss / self.accumulate_step\n",
    "\n",
    "    def train_step(self) -> Tensor:\n",
    "        \"\"\"Training steps\"\"\"\n",
    "        loss, grads = self.grad_fn()\n",
    "        loss = ops.depend(loss, self.accumulator(grads))\n",
    "        # grads = ops.clip_by_value(grads, clip_value_min=-10.0, clip_value_max=10.0)\n",
    "        return loss\n",
    "\n",
    "    def update_model(self) -> Tensor:\n",
    "        \"\"\"Update the model by gradient descent.\"\"\"\n",
    "        loss = self.train_step()\n",
    "\n",
    "        return loss.item(0) * self.accumulate_step\n",
    "\n",
    "    def train(self, num_frames: int, plotting_interval: int = 200):\n",
    "        \"\"\"Train the agent.\"\"\"\n",
    "        self.is_test = False\n",
    "\n",
    "        state, _ = self.env.reset(seed=self.seed)\n",
    "        update_cnt = 0\n",
    "        epsilons = []\n",
    "        losses = []\n",
    "        scores = []\n",
    "        score = 0\n",
    "\n",
    "        for frame_idx in range(1, num_frames + 1):\n",
    "            action = self.select_action(state)\n",
    "            next_state, reward, done = self.step(action)\n",
    "\n",
    "            state = next_state\n",
    "            score += reward\n",
    "\n",
    "            # if episode ends\n",
    "            if done:\n",
    "                state, _ = self.env.reset(seed=self.seed)\n",
    "                scores.append(score)\n",
    "                score = 0\n",
    "\n",
    "            # if training is ready\n",
    "            if len(self.memory) >= self.batch_size:\n",
    "                loss = self.update_model()\n",
    "                losses.append(loss)\n",
    "                update_cnt += 1\n",
    "\n",
    "                # linearly decrease epsilon\n",
    "                self.epsilon = max(\n",
    "                    self.min_epsilon, self.epsilon - (\n",
    "                        self.max_epsilon - self.min_epsilon\n",
    "                    ) * self.epsilon_decay\n",
    "                )\n",
    "                epsilons.append(self.epsilon)\n",
    "\n",
    "                # if hard update is needed\n",
    "                if update_cnt % self.target_update == 0:\n",
    "                    self._target_hard_update()\n",
    "\n",
    "            # plotting\n",
    "            if frame_idx % plotting_interval == 0:\n",
    "                self._plot(frame_idx, scores, losses, epsilons)\n",
    "\n",
    "        self.env.close()\n",
    "\n",
    "    def test(self, video_folder: str) -> None:\n",
    "        \"\"\"Test the agent.\"\"\"\n",
    "        self.is_test = True\n",
    "\n",
    "        # for recording a video\n",
    "        naive_env = self.env\n",
    "        self.env = gym.wrappers.RecordVideo(self.env, video_folder=video_folder)\n",
    "\n",
    "        state, _ = self.env.reset(seed=self.seed)\n",
    "        done = False\n",
    "        score = 0\n",
    "\n",
    "        while not done:\n",
    "            action = self.select_action(state)\n",
    "            next_state, reward, done = self.step(action)\n",
    "\n",
    "            state = next_state\n",
    "            score += reward\n",
    "\n",
    "        print(\"score: \", score)\n",
    "        self.env.close()\n",
    "\n",
    "        # reset\n",
    "        self.env = naive_env\n",
    "\n",
    "    def _compute_dqn_loss(self, samples: Dict[str, np.ndarray]) -> Tensor:\n",
    "        \"\"\"Return dqn loss.\"\"\"\n",
    "        state = Tensor(samples[\"obs\"], mindspore.float32)\n",
    "        next_state = Tensor(samples[\"next_obs\"], mindspore.float32)\n",
    "        action = Tensor(samples[\"acts\"].reshape(-1, 1), mindspore.int64)\n",
    "        reward = Tensor(samples[\"rews\"].reshape(-1, 1), mindspore.float32)\n",
    "        done = Tensor(samples[\"done\"].reshape(-1, 1), mindspore.float32)\n",
    "\n",
    "        # G_t   = r + gamma * v(s_{t+1})  if state != Terminal\n",
    "        #       = r                       otherwise\n",
    "        curr_q_value = self.dqn(state).gather_elements(1, action)\n",
    "        next_q_value = self.dqn_target(next_state).max(\n",
    "            axis=1, keepdims=True, return_indices=True\n",
    "        )[0]\n",
    "        mask = 1 - done\n",
    "        target = (reward + self.gamma * next_q_value * mask)\n",
    "\n",
    "        # calculate dqn loss\n",
    "        loss = ops.smooth_l1_loss(curr_q_value, target, reduction=\"mean\")\n",
    "\n",
    "        return loss\n",
    "\n",
    "    def _target_hard_update(self):\n",
    "        \"\"\"Hard update: target <- local.\"\"\"\n",
    "        mindspore.load_param_into_net(self.dqn_target, self.dqn.parameters_dict())\n",
    "\n",
    "    def _plot(\n",
    "        self,\n",
    "        frame_idx: int,\n",
    "        scores: List[float],\n",
    "        losses: List[float],\n",
    "        epsilons: List[float],\n",
    "    ):\n",
    "        \"\"\"Plot the training progresses.\"\"\"\n",
    "        clear_output(True)\n",
    "        plt.figure(figsize=(20, 5))\n",
    "        plt.subplot(131)\n",
    "        plt.title('frame %s. score: %s' % (frame_idx, np.mean(scores[-10:])))\n",
    "        plt.plot(scores)\n",
    "        plt.subplot(132)\n",
    "        plt.title('loss')\n",
    "        plt.plot(losses)\n",
    "        plt.subplot(133)\n",
    "        plt.title('epsilons')\n",
    "        plt.plot(epsilons)\n",
    "        plt.show()"
   ]
  },
  {
   "attachments": {},
   "cell_type": "markdown",
   "metadata": {},
   "source": [
    "## Environment\n",
    "\n",
    "You can see the [code](https://github.com/Farama-Foundation/Gymnasium/blob/main/gymnasium/envs/classic_control/cartpole.py) and [configurations](https://github.com/Farama-Foundation/Gymnasium/blob/main/gymnasium/envs/classic_control/cartpole.py#L91) of CartPole-v1 from Farama Gymnasium's repository."
   ]
  },
  {
   "cell_type": "code",
   "execution_count": 6,
   "metadata": {},
   "outputs": [],
   "source": [
    "# environment\n",
    "env = gym.make(\"CartPole-v1\", max_episode_steps=200, render_mode=\"rgb_array\")"
   ]
  },
  {
   "attachments": {},
   "cell_type": "markdown",
   "metadata": {},
   "source": [
    "## Set random seed"
   ]
  },
  {
   "cell_type": "code",
   "execution_count": 7,
   "metadata": {},
   "outputs": [],
   "source": [
    "seed = 777\n",
    "\n",
    "\n",
    "def seed_mindspore(seed):\n",
    "    \"\"\"Set Random Seed\"\"\"\n",
    "    mindspore.set_seed(seed)\n",
    "\n",
    "\n",
    "np.random.seed(seed)\n",
    "seed_mindspore(seed)"
   ]
  },
  {
   "attachments": {},
   "cell_type": "markdown",
   "metadata": {},
   "source": [
    "## Initialize"
   ]
  },
  {
   "cell_type": "code",
   "execution_count": 8,
   "metadata": {},
   "outputs": [
    {
     "name": "stdout",
     "output_type": "stream",
     "text": [
      "GPU\n"
     ]
    }
   ],
   "source": [
    "# parameters\n",
    "num_frames = 10000\n",
    "memory_size = 1000\n",
    "batch_size = 32\n",
    "target_update = 100\n",
    "epsilon_decay = 1 / 2000\n",
    "\n",
    "# train\n",
    "agent = DQNAgent(env, memory_size, batch_size, target_update, epsilon_decay, seed)"
   ]
  },
  {
   "attachments": {},
   "cell_type": "markdown",
   "metadata": {},
   "source": [
    "## Train"
   ]
  },
  {
   "cell_type": "code",
   "execution_count": 9,
   "metadata": {},
   "outputs": [
    {
     "data": {
      "image/png": "[encoded data removed]",
      "text/plain": [
       "<Figure size 1440x360 with 3 Axes>"
      ]
     },
     "metadata": {
      "needs_background": "light"
     },
     "output_type": "display_data"
    }
   ],
   "source": [
    "agent.train(num_frames)"
   ]
  },
  {
   "attachments": {},
   "cell_type": "markdown",
   "metadata": {},
   "source": [
    "## Test\n",
    "\n",
    "Run the trained agent (1 episode)."
   ]
  },
  {
   "cell_type": "code",
   "execution_count": 10,
   "metadata": {},
   "outputs": [
    {
     "name": "stderr",
     "output_type": "stream",
     "text": [
      "/home/daiyuxin/anaconda3/envs/cjh1/lib/python3.7/site-packages/gymnasium/wrappers/record_video.py:88: UserWarning: \u001b[33mWARN: Overwriting existing videos at /data1/cjh1/rainbow-is-all-you-need-MindSpore/videos/dueling folder (try specifying a different `video_folder` for the `RecordVideo` wrapper if this is not desired)\u001b[0m\n",
      "  f\"Overwriting existing videos at {self.video_folder} folder \"\n"
     ]
    },
    {
     "name": "stdout",
     "output_type": "stream",
     "text": [
      "Moviepy - Building video /data1/cjh1/rainbow-is-all-you-need-MindSpore/videos/dueling/rl-video-episode-0.mp4.\n",
      "Moviepy - Writing video /data1/cjh1/rainbow-is-all-you-need-MindSpore/videos/dueling/rl-video-episode-0.mp4\n",
      "\n"
     ]
    },
    {
     "name": "stderr",
     "output_type": "stream",
     "text": [
      "                                                               "
     ]
    },
    {
     "name": "stdout",
     "output_type": "stream",
     "text": [
      "Moviepy - Done !\n",
      "Moviepy - video ready /data1/cjh1/rainbow-is-all-you-need-MindSpore/videos/dueling/rl-video-episode-0.mp4\n",
      "score:  200.0\n"
     ]
    },
    {
     "name": "stderr",
     "output_type": "stream",
     "text": [
      "\r"
     ]
    }
   ],
   "source": [
    "video_folder = \"videos/dueling\"\n",
    "agent.test(video_folder=video_folder)"
   ]
  },
  {
   "attachments": {},
   "cell_type": "markdown",
   "metadata": {},
   "source": [
    "## Render"
   ]
  },
  {
   "cell_type": "code",
   "execution_count": 11,
   "metadata": {},
   "outputs": [
    {
     "data": {
      "text/html": [
       "\n",
       "        <video width=\"320\" height=\"240\" alt=\"test\" controls>\n",
       "        <source src=\"data:video/mp4;base64,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\" type=\"video/mp4\"/>\n",
       "        </video>\n",
       "        "
      ],
      "text/plain": [
       "<IPython.core.display.HTML object>"
      ]
     },
     "metadata": {},
     "output_type": "display_data"
    },
    {
     "name": "stdout",
     "output_type": "stream",
     "text": [
      "Played: videos/dueling/rl-video-episode-0.mp4\n"
     ]
    }
   ],
   "source": [
    "import base64\n",
    "import glob\n",
    "import io\n",
    "\n",
    "from IPython.display import HTML, display\n",
    "\n",
    "\n",
    "def ipython_show_video(path: str) -> None:\n",
    "    \"\"\"Show a video at `path` within IPython Notebook.\"\"\"\n",
    "    if not os.path.isfile(path):\n",
    "        raise NameError(\"Cannot access: {}\".format(path))\n",
    "\n",
    "    video = io.open(path, \"r+b\").read()\n",
    "    encoded = base64.b64encode(video)\n",
    "\n",
    "    display(HTML(\n",
    "        data=\"\"\"\n",
    "        <video width=\"320\" height=\"240\" alt=\"test\" controls>\n",
    "        <source src=\"data:video/mp4;base64,{0}\" type=\"video/mp4\"/>\n",
    "        </video>\n",
    "        \"\"\".format(encoded.decode(\"ascii\"))\n",
    "    ))\n",
    "\n",
    "\n",
    "def show_latest_video(video_folder: str) -> str:\n",
    "    \"\"\"Show the most recently recorded video from video folder.\"\"\"\n",
    "    list_of_files = glob.glob(os.path.join(video_folder, \"*.mp4\"))\n",
    "    latest_file = max(list_of_files, key=os.path.getctime)\n",
    "    ipython_show_video(latest_file)\n",
    "    return latest_file\n",
    "\n",
    "\n",
    "latest_file = show_latest_video(video_folder=video_folder)\n",
    "print(\"Played:\", latest_file)"
   ]
  }
 ],
 "metadata": {
  "kernelspec": {
   "display_name": "cjh1",
   "language": "python",
   "name": "python3"
  },
  "language_info": {
   "codemirror_mode": {
    "name": "ipython",
    "version": 3
   },
   "file_extension": ".py",
   "mimetype": "text/x-python",
   "name": "python",
   "nbconvert_exporter": "python",
   "pygments_lexer": "ipython3",
   "version": "3.7.13"
  }
 },
 "nbformat": 4,
 "nbformat_minor": 4
}
